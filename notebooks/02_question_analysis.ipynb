{
 "cells": [
  {
   "cell_type": "markdown",
   "metadata": {},
   "source": [
    "# ANALYSIS OF THE QUESTIONS"
   ]
  },
  {
   "cell_type": "markdown",
   "metadata": {},
   "source": [
    "#  1–20: General Population Trends"
   ]
  },
  {
   "cell_type": "code",
   "execution_count": 1,
   "metadata": {},
   "outputs": [
    {
     "name": "stdout",
     "output_type": "stream",
     "text": [
      "   Unnamed: 0  Rank CCA3    Country/Territory           Capital  \\\n",
      "0           0    36  AFG          Afghanistan             Kabul   \n",
      "1           1   138  ALB              Albania            Tirana   \n",
      "2           2    34  DZA              Algeria           Algiers   \n",
      "3           3   213  ASM       American Samoa         Pago Pago   \n",
      "4           4   203  AND              Andorra  Andorra la Vella   \n",
      "5           5    42  AGO               Angola            Luanda   \n",
      "6           6   224  AIA             Anguilla        The Valley   \n",
      "7           7   201  ATG  Antigua and Barbuda      Saint John’s   \n",
      "8           8    33  ARG            Argentina      Buenos Aires   \n",
      "9           9   140  ARM              Armenia           Yerevan   \n",
      "\n",
      "       Continent  2022 Population  2020 Population  2015 Population  \\\n",
      "0           Asia         41128771         38972230         33753499   \n",
      "1         Europe          2842321          2866849          2882481   \n",
      "2         Africa         44903225         43451666         39543154   \n",
      "3        Oceania            44273            46189            51368   \n",
      "4         Europe            79824            77700            71746   \n",
      "5         Africa         35588987         33428485         28127721   \n",
      "6  North America            15857            15585            14525   \n",
      "7  North America            93763            92664            89941   \n",
      "8  South America         45510318         45036032         43257065   \n",
      "9           Asia          2780469          2805608          2878595   \n",
      "\n",
      "   2010 Population  2000 Population  1990 Population  1980 Population  \\\n",
      "0         28189672         19542982         10694796         12486631   \n",
      "1          2913399          3182021          3295066          2941651   \n",
      "2         35856344         30774621         25518074         18739378   \n",
      "3            54849            58230            47818            32886   \n",
      "4            71519            66097            53569            35611   \n",
      "5         23364185         16394062         11828638          8330047   \n",
      "6            13172            11047             8316             6560   \n",
      "7            85695            75055            63328            64888   \n",
      "8         41100123         37070774         32637657         28024803   \n",
      "9          2946293          3168523          3556539          3135123   \n",
      "\n",
      "   1970 Population  Area (km²)  Density (per km²)  Growth Rate  \\\n",
      "0         10752971      652230            63.0587       1.0257   \n",
      "1          2324731       28748            98.8702       0.9957   \n",
      "2         13795915     2381741            18.8531       1.0164   \n",
      "3            27075         199           222.4774       0.9831   \n",
      "4            19860         468           170.5641       1.0100   \n",
      "5          6029700     1246700            28.5466       1.0315   \n",
      "6             6283          91           174.2527       1.0066   \n",
      "7            64516         442           212.1335       1.0058   \n",
      "8         23842803     2780400            16.3683       1.0052   \n",
      "9          2534377       29743            93.4831       0.9962   \n",
      "\n",
      "   World Population Percentage  \n",
      "0                         0.52  \n",
      "1                         0.04  \n",
      "2                         0.56  \n",
      "3                         0.00  \n",
      "4                         0.00  \n",
      "5                         0.45  \n",
      "6                         0.00  \n",
      "7                         0.00  \n",
      "8                         0.57  \n",
      "9                         0.03  \n"
     ]
    }
   ],
   "source": [
    "import pandas as pd\n",
    "import numpy as np\n",
    "\n",
    "world_pp = pd.read_csv(\"../data/processed_data/processed_data.csv\")\n",
    "print(world_pp.head(10))"
   ]
  },
  {
   "cell_type": "markdown",
   "metadata": {},
   "source": [
    "1. What is the total world population in 2022?"
   ]
  },
  {
   "cell_type": "code",
   "execution_count": 18,
   "metadata": {},
   "outputs": [
    {
     "name": "stdout",
     "output_type": "stream",
     "text": [
      "The world population in 2022 is 7973413042\n"
     ]
    }
   ],
   "source": [
    "world_pp22 = world_pp[\"2022 Population\"].sum()\n",
    "print(\"The world population in 2022 is \" + str(world_pp22))"
   ]
  },
  {
   "cell_type": "markdown",
   "metadata": {},
   "source": [
    "2. What is the total population growth from 2020 to 2022?"
   ]
  },
  {
   "cell_type": "code",
   "execution_count": 19,
   "metadata": {},
   "outputs": [],
   "source": [
    "pp_growth = (world_pp[\"2022 Population\"].sum()) - (world_pp[\"2020 Population\"].sum())"
   ]
  },
  {
   "cell_type": "code",
   "execution_count": 20,
   "metadata": {},
   "outputs": [
    {
     "name": "stdout",
     "output_type": "stream",
     "text": [
      "The world population growth between 2020 and 2022 is 134162439\n"
     ]
    }
   ],
   "source": [
    "print(\"The world population growth between 2020 and 2022 is \" + str(pp_growth))"
   ]
  },
  {
   "cell_type": "markdown",
   "metadata": {},
   "source": [
    "3. Which country had the largest population in 2022?"
   ]
  },
  {
   "cell_type": "code",
   "execution_count": 21,
   "metadata": {},
   "outputs": [
    {
     "name": "stdout",
     "output_type": "stream",
     "text": [
      "Unnamed: 0                             41\n",
      "Rank                                    1\n",
      "CCA3                                  CHN\n",
      "Country/Territory                   China\n",
      "Capital                           Beijing\n",
      "Continent                            Asia\n",
      "2022 Population                1425887337\n",
      "2020 Population                1424929781\n",
      "2015 Population                1393715448\n",
      "2010 Population                1348191368\n",
      "2000 Population                1264099069\n",
      "1990 Population                1153704252\n",
      "1980 Population                 982372466\n",
      "1970 Population                 822534450\n",
      "Area (km²)                        9706961\n",
      "Density (per km²)                146.8933\n",
      "Growth Rate                           1.0\n",
      "World Population Percentage         17.88\n",
      "Name: 41, dtype: object\n"
     ]
    }
   ],
   "source": [
    "max_population_row = world_pp.loc[world_pp[\"2022 Population\"].idxmax()]\n",
    "print(max_population_row)"
   ]
  },
  {
   "cell_type": "code",
   "execution_count": 22,
   "metadata": {},
   "outputs": [
    {
     "name": "stdout",
     "output_type": "stream",
     "text": [
      "The country with the highest population in 2022 is CHINA with 1425887337 number of people\n"
     ]
    }
   ],
   "source": [
    "country_name = max_population_row[\"Country/Territory\"]\n",
    "pp = max_population_row[\"2022 Population\"]\n",
    "print(\"The country with the highest population in 2022 is \" + country_name.upper() \n",
    "      + \" with \" +str(pp) + \" number of people\")"
   ]
  },
  {
   "cell_type": "markdown",
   "metadata": {},
   "source": [
    "4. Which country had the smallest population in 2022?"
   ]
  },
  {
   "cell_type": "code",
   "execution_count": 23,
   "metadata": {},
   "outputs": [
    {
     "name": "stdout",
     "output_type": "stream",
     "text": [
      "The country with the minimum population is Vatican City with 510\n"
     ]
    }
   ],
   "source": [
    "min_pp_row = world_pp.loc[world_pp[\"2022 Population\"].idxmin()]\n",
    "print(\"The country with the minimum population is \" + min_pp_row[\"Country/Territory\"] \n",
    "      + \" with \" + str(min_pp_row[\"2022 Population\"]))"
   ]
  },
  {
   "cell_type": "markdown",
   "metadata": {},
   "source": [
    "5. What is the average population across all countries in 2022?"
   ]
  },
  {
   "cell_type": "code",
   "execution_count": 24,
   "metadata": {},
   "outputs": [
    {
     "name": "stdout",
     "output_type": "stream",
     "text": [
      "The average population across all countries in 2022 is 34074414\n"
     ]
    }
   ],
   "source": [
    "print(\"The average population across all countries in 2022 is \" + str(int(world_pp[\"2022 Population\"].mean())))"
   ]
  },
  {
   "cell_type": "markdown",
   "metadata": {},
   "source": [
    "6.  How many countries have a population greater than 100 million in 2022?"
   ]
  },
  {
   "cell_type": "code",
   "execution_count": 25,
   "metadata": {},
   "outputs": [
    {
     "name": "stdout",
     "output_type": "stream",
     "text": [
      "World has 14 countries with population greater than 100 million in 2022\n"
     ]
    }
   ],
   "source": [
    "countries_gt_100M = world_pp[world_pp[\"2022 Population\"] > 100_000_000]\n",
    "num_countries = countries_gt_100M[\"2022 Population\"].nunique()\n",
    "print(\"World has \" + str(num_countries) + \" countries with population greater than 100 million in 2022\")"
   ]
  },
  {
   "cell_type": "markdown",
   "metadata": {},
   "source": [
    "7. What is the median population size in 2022?"
   ]
  },
  {
   "cell_type": "code",
   "execution_count": 26,
   "metadata": {},
   "outputs": [
    {
     "name": "stdout",
     "output_type": "stream",
     "text": [
      "The median population is 5559944\n"
     ]
    }
   ],
   "source": [
    "print(\"The median population is \" + str(int(world_pp[\"2022 Population\"].median())))"
   ]
  },
  {
   "cell_type": "markdown",
   "metadata": {},
   "source": [
    "8. What is the population range (max - min) in 2022?"
   ]
  },
  {
   "cell_type": "code",
   "execution_count": 27,
   "metadata": {},
   "outputs": [
    {
     "name": "stdout",
     "output_type": "stream",
     "text": [
      "The population range is 1425886827\n"
     ]
    }
   ],
   "source": [
    "print(\"The population range is \" +str(world_pp[\"2022 Population\"].max() - world_pp[\"2022 Population\"].min()))"
   ]
  },
  {
   "cell_type": "markdown",
   "metadata": {},
   "source": [
    "9. What is the mode of population sizes in 2022?"
   ]
  },
  {
   "cell_type": "code",
   "execution_count": 28,
   "metadata": {},
   "outputs": [],
   "source": [
    "mode_pp22 = world_pp[\"2022 Population\"].mode()"
   ]
  },
  {
   "cell_type": "code",
   "execution_count": 29,
   "metadata": {},
   "outputs": [
    {
     "name": "stdout",
     "output_type": "stream",
     "text": [
      "The mode of population sizes in 2022 is 0             510\n",
      "1            1871\n",
      "2            1934\n",
      "3            3780\n",
      "4            4390\n",
      "          ...    \n",
      "229     235824862\n",
      "230     275501339\n",
      "231     338289857\n",
      "232    1417173173\n",
      "233    1425887337\n",
      "Name: 2022 Population, Length: 234, dtype: int64\n"
     ]
    }
   ],
   "source": [
    "print(\"The mode of population sizes in 2022 is \" + str(mode_pp22))"
   ]
  },
  {
   "cell_type": "markdown",
   "metadata": {},
   "source": [
    "10. Which country experienced the largest growth rate ?"
   ]
  },
  {
   "cell_type": "code",
   "execution_count": 30,
   "metadata": {},
   "outputs": [
    {
     "name": "stdout",
     "output_type": "stream",
     "text": [
      "Unnamed: 0                          133\n",
      "Rank                                135\n",
      "CCA3                                MDA\n",
      "Country/Territory               Moldova\n",
      "Capital                        Chisinau\n",
      "Continent                        Europe\n",
      "2022 Population                 3272996\n",
      "2020 Population                 3084847\n",
      "2015 Population                 3277388\n",
      "2010 Population                 3678186\n",
      "2000 Population                 4251573\n",
      "1990 Population                 4480199\n",
      "1980 Population                 4103240\n",
      "1970 Population                 3711140\n",
      "Area (km²)                        33846\n",
      "Density (per km²)               96.7026\n",
      "Growth Rate                      1.0691\n",
      "World Population Percentage        0.04\n",
      "Name: 133, dtype: object\n",
      "\n",
      "The country with the largest growth rate is MOLDOVA\n"
     ]
    }
   ],
   "source": [
    "largest_growth_rate = world_pp.loc[world_pp[\"Growth Rate\"].idxmax()]\n",
    "print(largest_growth_rate)\n",
    "country_name = largest_growth_rate[\"Country/Territory\"]\n",
    "print(\"\\nThe country with the largest growth rate is \" + country_name.upper())"
   ]
  },
  {
   "cell_type": "markdown",
   "metadata": {},
   "source": [
    "11. What is the population density of the world in 2022?"
   ]
  },
  {
   "cell_type": "code",
   "execution_count": 31,
   "metadata": {},
   "outputs": [
    {
     "name": "stdout",
     "output_type": "stream",
     "text": [
      "   Unnamed: 0  Rank CCA3 Country/Territory  Capital Continent  \\\n",
      "0           0    36  AFG       Afghanistan    Kabul      Asia   \n",
      "1           1   138  ALB           Albania   Tirana    Europe   \n",
      "2           2    34  DZA           Algeria  Algiers    Africa   \n",
      "\n",
      "   2022 Population  2020 Population  2015 Population  2010 Population  \\\n",
      "0         41128771         38972230         33753499         28189672   \n",
      "1          2842321          2866849          2882481          2913399   \n",
      "2         44903225         43451666         39543154         35856344   \n",
      "\n",
      "   2000 Population  1990 Population  1980 Population  1970 Population  \\\n",
      "0         19542982         10694796         12486631         10752971   \n",
      "1          3182021          3295066          2941651          2324731   \n",
      "2         30774621         25518074         18739378         13795915   \n",
      "\n",
      "   Area (km²)  Density (per km²)  Growth Rate  World Population Percentage  \n",
      "0      652230            63.0587       1.0257                         0.52  \n",
      "1       28748            98.8702       0.9957                         0.04  \n",
      "2     2381741            18.8531       1.0164                         0.56  \n"
     ]
    }
   ],
   "source": [
    "print(world_pp.head(3))"
   ]
  },
  {
   "cell_type": "code",
   "execution_count": 32,
   "metadata": {},
   "outputs": [],
   "source": [
    "world_pp[\"pp_density_22\"] = world_pp[\"2022 Population\"]/ world_pp[\"Area (km²)\"]"
   ]
  },
  {
   "cell_type": "code",
   "execution_count": 33,
   "metadata": {},
   "outputs": [
    {
     "name": "stdout",
     "output_type": "stream",
     "text": [
      "The world population density in 2022 is 105797.72824468851\n"
     ]
    }
   ],
   "source": [
    "print(\"The world population density in 2022 is \" + str(world_pp[\"pp_density_22\"].sum()))"
   ]
  },
  {
   "cell_type": "code",
   "execution_count": 34,
   "metadata": {},
   "outputs": [
    {
     "name": "stdout",
     "output_type": "stream",
     "text": [
      "   Unnamed: 0  Rank CCA3 Country/Territory           Capital Continent  \\\n",
      "0           0    36  AFG       Afghanistan             Kabul      Asia   \n",
      "1           1   138  ALB           Albania            Tirana    Europe   \n",
      "2           2    34  DZA           Algeria           Algiers    Africa   \n",
      "3           3   213  ASM    American Samoa         Pago Pago   Oceania   \n",
      "4           4   203  AND           Andorra  Andorra la Vella    Europe   \n",
      "\n",
      "   2022 Population  2020 Population  2015 Population  2010 Population  \\\n",
      "0         41128771         38972230         33753499         28189672   \n",
      "1          2842321          2866849          2882481          2913399   \n",
      "2         44903225         43451666         39543154         35856344   \n",
      "3            44273            46189            51368            54849   \n",
      "4            79824            77700            71746            71519   \n",
      "\n",
      "   2000 Population  1990 Population  1980 Population  1970 Population  \\\n",
      "0         19542982         10694796         12486631         10752971   \n",
      "1          3182021          3295066          2941651          2324731   \n",
      "2         30774621         25518074         18739378         13795915   \n",
      "3            58230            47818            32886            27075   \n",
      "4            66097            53569            35611            19860   \n",
      "\n",
      "   Area (km²)  Density (per km²)  Growth Rate  World Population Percentage  \\\n",
      "0      652230            63.0587       1.0257                         0.52   \n",
      "1       28748            98.8702       0.9957                         0.04   \n",
      "2     2381741            18.8531       1.0164                         0.56   \n",
      "3         199           222.4774       0.9831                         0.00   \n",
      "4         468           170.5641       1.0100                         0.00   \n",
      "\n",
      "   pp_density_22  \n",
      "0      63.058692  \n",
      "1      98.870217  \n",
      "2      18.853110  \n",
      "3     222.477387  \n",
      "4     170.564103  \n"
     ]
    }
   ],
   "source": [
    "print(world_pp.head())"
   ]
  },
  {
   "cell_type": "code",
   "execution_count": 35,
   "metadata": {},
   "outputs": [
    {
     "data": {
      "text/plain": [
       "0     63.058692\n",
       "1     98.870217\n",
       "2     18.853110\n",
       "3    222.477387\n",
       "4    170.564103\n",
       "Name: pp_density_22, dtype: float64"
      ]
     },
     "execution_count": 35,
     "metadata": {},
     "output_type": "execute_result"
    }
   ],
   "source": [
    "world_pp[\"pp_density_22\"].head()"
   ]
  },
  {
   "cell_type": "markdown",
   "metadata": {},
   "source": [
    "12. What is the most densely populated country in 2022?"
   ]
  },
  {
   "cell_type": "code",
   "execution_count": 36,
   "metadata": {},
   "outputs": [],
   "source": [
    "most_densely_populated_row = world_pp.loc[world_pp[\"pp_density_22\"].idxmax()]"
   ]
  },
  {
   "cell_type": "code",
   "execution_count": 37,
   "metadata": {},
   "outputs": [
    {
     "name": "stdout",
     "output_type": "stream",
     "text": [
      "The most densely populated in 2022 is MACAU\n"
     ]
    }
   ],
   "source": [
    "country_name = most_densely_populated_row[\"Country/Territory\"]\n",
    "print(\"The most densely populated in 2022 is \" + country_name.upper())"
   ]
  },
  {
   "cell_type": "markdown",
   "metadata": {},
   "source": [
    "13. What is the least densely populated country in 2022?"
   ]
  },
  {
   "cell_type": "code",
   "execution_count": 38,
   "metadata": {},
   "outputs": [
    {
     "name": "stdout",
     "output_type": "stream",
     "text": [
      "The less densely populated country in 2022 is Greenland\n"
     ]
    }
   ],
   "source": [
    "less_densely_populated_row = world_pp.loc[world_pp[\"pp_density_22\"].idxmin()]\n",
    "country_name = less_densely_populated_row[\"Country/Territory\"]\n",
    "print(\"The less densely populated country in 2022 is \" + country_name)"
   ]
  },
  {
   "cell_type": "markdown",
   "metadata": {},
   "source": [
    "14. How many countries/territories are there in each continent?"
   ]
  },
  {
   "cell_type": "code",
   "execution_count": 39,
   "metadata": {},
   "outputs": [
    {
     "name": "stdout",
     "output_type": "stream",
     "text": [
      "Continent\n",
      "Africa           [Algeria, Angola, Benin, Botswana, Burkina Fas...\n",
      "Asia             [Afghanistan, Armenia, Azerbaijan, Bahrain, Ba...\n",
      "Europe           [Albania, Andorra, Austria, Belarus, Belgium, ...\n",
      "North America    [Anguilla, Antigua and Barbuda, Aruba, Bahamas...\n",
      "Oceania          [American Samoa, Australia, Cook Islands, Fiji...\n",
      "South America    [Argentina, Bolivia, Brazil, Chile, Colombia, ...\n",
      "Name: Country/Territory, dtype: object\n"
     ]
    }
   ],
   "source": [
    "countries_vs_continent = world_pp.groupby(\"Continent\")[\"Country/Territory\"].unique()\n",
    "print(countries_vs_continent)"
   ]
  },
  {
   "cell_type": "markdown",
   "metadata": {},
   "source": [
    "15. What is the median population size within each continent in 2022"
   ]
  },
  {
   "cell_type": "code",
   "execution_count": 40,
   "metadata": {},
   "outputs": [
    {
     "name": "stdout",
     "output_type": "stream",
     "text": [
      "Continent\n",
      "Africa           13352864.0\n",
      "Asia             18082920.0\n",
      "Europe            5228714.0\n",
      "North America      236399.0\n",
      "Oceania            114164.0\n",
      "South America    15112555.0\n",
      "Name: 2022 Population, dtype: float64\n"
     ]
    }
   ],
   "source": [
    "median_pp_continent = world_pp.groupby(\"Continent\")[\"2022 Population\"].median()\n",
    "print(median_pp_continent)"
   ]
  },
  {
   "cell_type": "markdown",
   "metadata": {},
   "source": [
    "16. What is the average population growth rate for countries in each continent?"
   ]
  },
  {
   "cell_type": "code",
   "execution_count": 41,
   "metadata": {},
   "outputs": [
    {
     "name": "stdout",
     "output_type": "stream",
     "text": [
      "The average growth rate of each continent is : \n",
      "Continent\n",
      "Africa           1.021244\n",
      "Asia             1.009384\n",
      "Europe           1.002256\n",
      "North America    1.004175\n",
      "Oceania          1.007383\n",
      "South America    1.007957\n",
      "Name: Growth Rate, dtype: float64\n"
     ]
    }
   ],
   "source": [
    "avg_pp_growth_rate = world_pp.groupby(\"Continent\")[\"Growth Rate\"].mean()\n",
    "print(\"The average growth rate of each continent is : \")\n",
    "print(avg_pp_growth_rate)"
   ]
  },
  {
   "cell_type": "markdown",
   "metadata": {},
   "source": [
    "17. Which year (2000–2022) saw the highest global population increase?"
   ]
  },
  {
   "cell_type": "code",
   "execution_count": 42,
   "metadata": {},
   "outputs": [
    {
     "name": "stdout",
     "output_type": "stream",
     "text": [
      "Year with the highest global population increase between 2000 to 2022 is 836729295\n"
     ]
    }
   ],
   "source": [
    "population_columns = [\"2000 Population\", \"2010 Population\", \"2015 Population\", \"2020 Population\", \"2022 Population\"]\n",
    "\n",
    "#Global population for each year\n",
    "global_population = world_pp[population_columns].sum()\n",
    "\n",
    "#Calculate year-over-year population\n",
    "population_increase = global_population.diff()\n",
    "\n",
    "# Find the year with the highest population increase\n",
    "\n",
    "max_increase_year =population_increase.idxmax()\n",
    "max_increase_value = population_increase.max()\n",
    "\n",
    "print(\"Year with the highest global population increase between 2000 to 2022 is \" + str(int(max_increase_value)))"
   ]
  },
  {
   "cell_type": "markdown",
   "metadata": {},
   "source": [
    "18. What are the top 5 fastest-growing countries from 2020 to 2022?"
   ]
  },
  {
   "cell_type": "code",
   "execution_count": 43,
   "metadata": {},
   "outputs": [
    {
     "name": "stdout",
     "output_type": "stream",
     "text": [
      "Top 5 fastest-growing countries from 2020 to 2022 : \n",
      "    Country/Territory  Growth Rate (2020 - 2022)\n",
      "148             Niger                   7.702662\n",
      "130           Mayotte                   6.712982\n",
      "55           DR Congo                   6.630951\n",
      "202             Syria                   6.511724\n",
      "39               Chad                   6.480225\n"
     ]
    }
   ],
   "source": [
    "world_pp[\"Growth Rate (2020 - 2022)\"] = ((world_pp[\"2022 Population\"] - world_pp[\"2020 Population\"]) / world_pp[\"2020 Population\"]) * 100\n",
    "\n",
    "top_5_growing_countries = world_pp[[\"Country/Territory\", \"Growth Rate (2020 - 2022)\"]].sort_values(by=\"Growth Rate (2020 - 2022)\", ascending=False).head(5)\n",
    "print(\"Top 5 fastest-growing countries from 2020 to 2022 : \")\n",
    "print(top_5_growing_countries)\n"
   ]
  },
  {
   "cell_type": "markdown",
   "metadata": {},
   "source": [
    "19. Which continent experienced the largest population growth between 2010 and 2022"
   ]
  },
  {
   "cell_type": "code",
   "execution_count": 44,
   "metadata": {},
   "outputs": [
    {
     "name": "stdout",
     "output_type": "stream",
     "text": [
      "Continent that have largest population growth between 2010 and 2022 is ASIA\n"
     ]
    }
   ],
   "source": [
    "\n",
    "world_pp[\"Growth Rate (2010 - 2022)\"] = ((world_pp[\"2022 Population\"] - world_pp[\"2010 Population\"]) / world_pp[\"2010 Population\"]) *100\n",
    "continent_pp = world_pp[[\"Continent\", \"Growth Rate (2010 - 2022)\"]].sort_values(by=\"Growth Rate (2010 - 2022)\", ascending=False).head(10)\n",
    "largest_growth_rate_row = world_pp.loc[world_pp[\"Growth Rate (2010 - 2022)\"].idxmax()]\n",
    "continent_name = largest_growth_rate_row[\"Continent\"]\n",
    "print(\"Continent that have largest population growth between 2010 and 2022 is \" + continent_name.upper())"
   ]
  },
  {
   "cell_type": "markdown",
   "metadata": {},
   "source": [
    "20. What percentage of the world population lives in the top 10 most populous countries in 2022?"
   ]
  },
  {
   "cell_type": "code",
   "execution_count": 45,
   "metadata": {},
   "outputs": [
    {
     "name": "stdout",
     "output_type": "stream",
     "text": [
      "Percentage of the world population lives in the top 10 most populus countries in 2022 is 2022 Population    2.17\n",
      "dtype: float64\n"
     ]
    }
   ],
   "source": [
    "top_10_most_populous_ctries = world_pp[[\"2022 Population\"]].head(10).sum()\n",
    "percent_top10_pp = round((top_10_most_populous_ctries/world_pp[\"2022 Population\"].sum()) * 100, 2)\n",
    "print(\"Percentage of the world population lives in the top 10 most populus countries in 2022 is \" + str(percent_top10_pp))"
   ]
  },
  {
   "cell_type": "markdown",
   "metadata": {},
   "source": [
    "# 21–30: Continent-Based Analysis"
   ]
  },
  {
   "cell_type": "markdown",
   "metadata": {},
   "source": [
    "21. What is the total population of each continent in 2022?"
   ]
  },
  {
   "cell_type": "code",
   "execution_count": 46,
   "metadata": {},
   "outputs": [
    {
     "name": "stdout",
     "output_type": "stream",
     "text": [
      "Continent\n",
      "Africa           1426730932\n",
      "Asia             4721383274\n",
      "Europe            743147538\n",
      "North America     600296136\n",
      "Oceania            45038554\n",
      "South America     436816608\n",
      "Name: 2022 Population, dtype: int64\n"
     ]
    }
   ],
   "source": [
    "pp_each_continent = world_pp.groupby(\"Continent\")[\"2022 Population\"].sum()\n",
    "print(pp_each_continent)"
   ]
  },
  {
   "cell_type": "markdown",
   "metadata": {},
   "source": [
    "22. What continent has the highest population in 2022?"
   ]
  },
  {
   "cell_type": "code",
   "execution_count": 47,
   "metadata": {},
   "outputs": [
    {
     "name": "stdout",
     "output_type": "stream",
     "text": [
      " The continent with the highest population in 2022 is Asia, with a population of 4721383274\n"
     ]
    }
   ],
   "source": [
    "continent_pp22 = world_pp.groupby(\"Continent\")[\"2022 Population\"].sum()\n",
    "cont_with_max_pp_row = continent_pp22.idxmax()\n",
    "max_pp = continent_pp22.max()\n",
    "\n",
    "print(f\" The continent with the highest population in 2022 is {cont_with_max_pp_row}, with a population of {max_pp}\")"
   ]
  },
  {
   "cell_type": "markdown",
   "metadata": {},
   "source": [
    "23. What continent has the lowest population in 2022"
   ]
  },
  {
   "cell_type": "code",
   "execution_count": 48,
   "metadata": {},
   "outputs": [
    {
     "name": "stdout",
     "output_type": "stream",
     "text": [
      "The continent with the lowest population in 2022 is Oceania, with a population of 45038554\n"
     ]
    }
   ],
   "source": [
    "continent_with_min_pp_row = continent_pp22.idxmin()\n",
    "min_pp = continent_pp22.min()\n",
    "print(f\"The continent with the lowest population in 2022 is {continent_with_min_pp_row}, with a population of {min_pp}\")"
   ]
  },
  {
   "cell_type": "markdown",
   "metadata": {},
   "source": [
    "24. What are the countries in Oceania"
   ]
  },
  {
   "cell_type": "code",
   "execution_count": 49,
   "metadata": {},
   "outputs": [
    {
     "name": "stdout",
     "output_type": "stream",
     "text": [
      "Countries in Oceania: \n",
      "3                American Samoa\n",
      "11                    Australia\n",
      "44                 Cook Islands\n",
      "66                         Fiji\n",
      "70             French Polynesia\n",
      "81                         Guam\n",
      "107                    Kiribati\n",
      "126            Marshall Islands\n",
      "132                  Micronesia\n",
      "142                       Nauru\n",
      "145               New Caledonia\n",
      "146                 New Zealand\n",
      "150                        Niue\n",
      "153    Northern Mariana Islands\n",
      "157                       Palau\n",
      "160            Papua New Guinea\n",
      "179                       Samoa\n",
      "191             Solomon Islands\n",
      "209                     Tokelau\n",
      "210                       Tonga\n",
      "216                      Tuvalu\n",
      "225                     Vanuatu\n",
      "229           Wallis and Futuna\n",
      "Name: Country/Territory, dtype: object\n"
     ]
    }
   ],
   "source": [
    "oceania_countries = world_pp[world_pp[\"Continent\"] == \"Oceania\"][\"Country/Territory\"]\n",
    "print(\"Countries in Oceania: \")\n",
    "print(oceania_countries)"
   ]
  },
  {
   "cell_type": "code",
   "execution_count": 50,
   "metadata": {},
   "outputs": [
    {
     "name": "stdout",
     "output_type": "stream",
     "text": [
      "The number of countries in Oceania is 23\n"
     ]
    }
   ],
   "source": [
    "num_countries_in_oceania = world_pp[world_pp[\"Continent\"] ==\"Oceania\"][\"Country/Territory\"].count()\n",
    "print(\"The number of countries in Oceania is \" +str(num_countries_in_oceania))"
   ]
  },
  {
   "cell_type": "code",
   "execution_count": 51,
   "metadata": {},
   "outputs": [
    {
     "name": "stdout",
     "output_type": "stream",
     "text": [
      "Continent with there respective number of their countries \n",
      "Continent\n",
      "Africa           57\n",
      "Asia             50\n",
      "Europe           50\n",
      "North America    40\n",
      "Oceania          23\n",
      "South America    14\n",
      "Name: Country/Territory, dtype: int64\n"
     ]
    }
   ],
   "source": [
    "num_countries_continent = world_pp.groupby(\"Continent\")[\"Country/Territory\"].count()\n",
    "print(\"Continent with there respective number of their countries \")\n",
    "print(num_countries_continent)"
   ]
  },
  {
   "cell_type": "markdown",
   "metadata": {},
   "source": [
    "23. countries in south america"
   ]
  },
  {
   "cell_type": "code",
   "execution_count": 52,
   "metadata": {},
   "outputs": [
    {
     "name": "stdout",
     "output_type": "stream",
     "text": [
      "Countries in South America \n",
      "8             Argentina\n",
      "24              Bolivia\n",
      "27               Brazil\n",
      "40                Chile\n",
      "42             Colombia\n",
      "56              Ecuador\n",
      "64     Falkland Islands\n",
      "69        French Guiana\n",
      "86               Guyana\n",
      "161            Paraguay\n",
      "162                Peru\n",
      "199            Suriname\n",
      "223             Uruguay\n",
      "227           Venezuela\n",
      "Name: Country/Territory, dtype: object\n"
     ]
    }
   ],
   "source": [
    "sth_amrca = world_pp[world_pp[\"Continent\"] == \"South America\"][\"Country/Territory\"]\n",
    "print(\"Countries in South America \")\n",
    "print(sth_amrca)"
   ]
  },
  {
   "cell_type": "markdown",
   "metadata": {},
   "source": [
    "24. Which continent has the most countries with over 50 million people?"
   ]
  },
  {
   "cell_type": "code",
   "execution_count": 53,
   "metadata": {},
   "outputs": [
    {
     "name": "stdout",
     "output_type": "stream",
     "text": [
      "The continent with most countries with over 50 million people is Asia with 13 countries\n"
     ]
    }
   ],
   "source": [
    "countries_gth_50M = world_pp[world_pp[\"2022 Population\"] > 50_000_000]\n",
    "continent_count = countries_gth_50M['Continent'].value_counts()\n",
    "\n",
    "most_continent_name = continent_count.idxmax()\n",
    "most_continent_value = continent_count.max()\n",
    "\n",
    "print(f\"The continent with most countries with over 50 million people is {most_continent_name} with {most_continent_value} countries\")"
   ]
  },
  {
   "cell_type": "markdown",
   "metadata": {},
   "source": [
    "25. What is the combined population of North and South America in 2022?"
   ]
  },
  {
   "cell_type": "code",
   "execution_count": 54,
   "metadata": {},
   "outputs": [
    {
     "data": {
      "application/vnd.microsoft.datawrangler.viewer.v0+json": {
       "columns": [
        {
         "name": "index",
         "rawType": "int64",
         "type": "integer"
        },
        {
         "name": "Country/Territory",
         "rawType": "object",
         "type": "string"
        },
        {
         "name": "Unnamed: 0",
         "rawType": "int64",
         "type": "integer"
        },
        {
         "name": "Rank",
         "rawType": "int64",
         "type": "integer"
        },
        {
         "name": "CCA3",
         "rawType": "object",
         "type": "string"
        },
        {
         "name": "Capital",
         "rawType": "object",
         "type": "string"
        },
        {
         "name": "Continent",
         "rawType": "object",
         "type": "string"
        },
        {
         "name": "2022 Population",
         "rawType": "int64",
         "type": "integer"
        },
        {
         "name": "2020 Population",
         "rawType": "int64",
         "type": "integer"
        },
        {
         "name": "2015 Population",
         "rawType": "int64",
         "type": "integer"
        },
        {
         "name": "2010 Population",
         "rawType": "int64",
         "type": "integer"
        },
        {
         "name": "2000 Population",
         "rawType": "int64",
         "type": "integer"
        },
        {
         "name": "1990 Population",
         "rawType": "int64",
         "type": "integer"
        },
        {
         "name": "1980 Population",
         "rawType": "int64",
         "type": "integer"
        },
        {
         "name": "1970 Population",
         "rawType": "int64",
         "type": "integer"
        },
        {
         "name": "Area (km²)",
         "rawType": "int64",
         "type": "integer"
        },
        {
         "name": "Density (per km²)",
         "rawType": "float64",
         "type": "float"
        },
        {
         "name": "Growth Rate",
         "rawType": "float64",
         "type": "float"
        },
        {
         "name": "World Population Percentage",
         "rawType": "float64",
         "type": "float"
        },
        {
         "name": "pp_density_22",
         "rawType": "float64",
         "type": "float"
        },
        {
         "name": "Growth Rate (2020 - 2022)",
         "rawType": "float64",
         "type": "float"
        },
        {
         "name": "Growth Rate (2010 - 2022)",
         "rawType": "float64",
         "type": "float"
        }
       ],
       "conversionMethod": "pd.DataFrame",
       "ref": "3898aa61-8806-4fc8-9d69-d5657b4b13db",
       "rows": [
        [
         "0",
         "Afghanistan",
         "0",
         "36",
         "AFG",
         "Kabul",
         "Asia",
         "41128771",
         "38972230",
         "33753499",
         "28189672",
         "19542982",
         "10694796",
         "12486631",
         "10752971",
         "652230",
         "63.0587",
         "1.0257",
         "0.52",
         "63.05869248577956",
         "5.533532466579408",
         "45.90014030670523"
        ],
        [
         "1",
         "Albania",
         "1",
         "138",
         "ALB",
         "Tirana",
         "Europe",
         "2842321",
         "2866849",
         "2882481",
         "2913399",
         "3182021",
         "3295066",
         "2941651",
         "2324731",
         "28748",
         "98.8702",
         "0.9957",
         "0.04",
         "98.87021705857799",
         "-0.8555734885234626",
         "-2.4396932929543804"
        ],
        [
         "2",
         "Algeria",
         "2",
         "34",
         "DZA",
         "Algiers",
         "Africa",
         "44903225",
         "43451666",
         "39543154",
         "35856344",
         "30774621",
         "25518074",
         "18739378",
         "13795915",
         "2381741",
         "18.8531",
         "1.0164",
         "0.56",
         "18.853109972914773",
         "3.3406291026907917",
         "25.230907534800533"
        ],
        [
         "3",
         "American Samoa",
         "3",
         "213",
         "ASM",
         "Pago Pago",
         "Oceania",
         "44273",
         "46189",
         "51368",
         "54849",
         "58230",
         "47818",
         "32886",
         "27075",
         "199",
         "222.4774",
         "0.9831",
         "0.0",
         "222.47738693467338",
         "-4.148173807616532",
         "-19.282028842823024"
        ],
        [
         "4",
         "Andorra",
         "4",
         "203",
         "AND",
         "Andorra la Vella",
         "Europe",
         "79824",
         "77700",
         "71746",
         "71519",
         "66097",
         "53569",
         "35611",
         "19860",
         "468",
         "170.5641",
         "1.01",
         "0.0",
         "170.56410256410257",
         "2.7335907335907335",
         "11.612298829681624"
        ],
        [
         "5",
         "Angola",
         "5",
         "42",
         "AGO",
         "Luanda",
         "Africa",
         "35588987",
         "33428485",
         "28127721",
         "23364185",
         "16394062",
         "11828638",
         "8330047",
         "6029700",
         "1246700",
         "28.5466",
         "1.0315",
         "0.45",
         "28.546552498596295",
         "6.463056880980397",
         "52.32282658265204"
        ],
        [
         "6",
         "Anguilla",
         "6",
         "224",
         "AIA",
         "The Valley",
         "North America",
         "15857",
         "15585",
         "14525",
         "13172",
         "11047",
         "8316",
         "6560",
         "6283",
         "91",
         "174.2527",
         "1.0066",
         "0.0",
         "174.25274725274724",
         "1.7452678857876163",
         "20.38414819313696"
        ],
        [
         "7",
         "Antigua and Barbuda",
         "7",
         "201",
         "ATG",
         "Saint John’s",
         "North America",
         "93763",
         "92664",
         "89941",
         "85695",
         "75055",
         "63328",
         "64888",
         "64516",
         "442",
         "212.1335",
         "1.0058",
         "0.0",
         "212.13348416289594",
         "1.1860053526720193",
         "9.414784993290157"
        ],
        [
         "8",
         "Argentina",
         "8",
         "33",
         "ARG",
         "Buenos Aires",
         "South America",
         "45510318",
         "45036032",
         "43257065",
         "41100123",
         "37070774",
         "32637657",
         "28024803",
         "23842803",
         "2780400",
         "16.3683",
         "1.0052",
         "0.57",
         "16.368262839879154",
         "1.053125639487955",
         "10.730369347069837"
        ],
        [
         "9",
         "Armenia",
         "9",
         "140",
         "ARM",
         "Yerevan",
         "Asia",
         "2780469",
         "2805608",
         "2878595",
         "2946293",
         "3168523",
         "3556539",
         "3135123",
         "2534377",
         "29743",
         "93.4831",
         "0.9962",
         "0.03",
         "93.48313888982281",
         "-0.8960268148650845",
         "-5.62822502717822"
        ],
        [
         "10",
         "Aruba",
         "10",
         "198",
         "ABW",
         "Oranjestad",
         "North America",
         "106445",
         "106585",
         "104257",
         "100341",
         "89101",
         "65712",
         "62267",
         "59106",
         "180",
         "591.3611",
         "0.9991",
         "0.0",
         "591.3611111111111",
         "-0.13135056527653985",
         "6.083256096710218"
        ],
        [
         "11",
         "Australia",
         "11",
         "55",
         "AUS",
         "Canberra",
         "Oceania",
         "26177413",
         "25670051",
         "23820236",
         "22019168",
         "19017963",
         "17048003",
         "14706322",
         "12595034",
         "7692024",
         "3.4032",
         "1.0099",
         "0.33",
         "3.4031891996176817",
         "1.9764744526608071",
         "18.88465994718783"
        ],
        [
         "12",
         "Austria",
         "12",
         "99",
         "AUT",
         "Vienna",
         "Europe",
         "8939617",
         "8907777",
         "8642421",
         "8362829",
         "8010428",
         "7678729",
         "7547561",
         "7465301",
         "83871",
         "106.5877",
         "1.002",
         "0.11",
         "106.58770015857687",
         "0.3574404702767031",
         "6.897044050524051"
        ],
        [
         "13",
         "Azerbaijan",
         "13",
         "91",
         "AZE",
         "Baku",
         "Asia",
         "10358074",
         "10284951",
         "9863480",
         "9237202",
         "8190337",
         "7427836",
         "6383060",
         "5425317",
         "86600",
         "119.6082",
         "1.0044",
         "0.13",
         "119.60824480369514",
         "0.7109708155148236",
         "12.134323791988093"
        ],
        [
         "14",
         "Bahamas",
         "14",
         "176",
         "BHS",
         "Nassau",
         "North America",
         "409984",
         "406471",
         "392697",
         "373272",
         "325014",
         "270679",
         "223752",
         "179129",
         "13943",
         "29.4043",
         "1.0051",
         "0.01",
         "29.40428889048268",
         "0.8642682995834882",
         "9.835187209327247"
        ],
        [
         "15",
         "Bahrain",
         "15",
         "154",
         "BHR",
         "Manama",
         "Asia",
         "1472233",
         "1477469",
         "1362142",
         "1213645",
         "711442",
         "517418",
         "362595",
         "222555",
         "765",
         "1924.4876",
         "1.0061",
         "0.02",
         "1924.4875816993465",
         "-0.3543898382977917",
         "21.30672478360641"
        ],
        [
         "16",
         "Bangladesh",
         "16",
         "8",
         "BGD",
         "Dhaka",
         "Asia",
         "171186372",
         "167420951",
         "157830000",
         "148391139",
         "129193327",
         "107147651",
         "83929765",
         "67541860",
         "147570",
         "1160.035",
         "1.0108",
         "2.15",
         "1160.0350477739378",
         "2.2490739525186427",
         "15.361586381515677"
        ],
        [
         "17",
         "Barbados",
         "17",
         "186",
         "BRB",
         "Bridgetown",
         "North America",
         "281635",
         "280693",
         "278083",
         "274711",
         "264657",
         "258868",
         "253575",
         "241397",
         "430",
         "654.9651",
         "1.0015",
         "0.0",
         "654.9651162790698",
         "0.335597966461579",
         "2.5204669634634214"
        ],
        [
         "18",
         "Belarus",
         "18",
         "96",
         "BLR",
         "Minsk",
         "Europe",
         "9534954",
         "9633740",
         "9700609",
         "9731427",
         "10256483",
         "10428525",
         "9817257",
         "9170786",
         "207600",
         "45.9295",
         "0.9955",
         "0.12",
         "45.929450867052026",
         "-1.0254169201161751",
         "-2.0189536436948043"
        ],
        [
         "19",
         "Belgium",
         "19",
         "81",
         "BEL",
         "Brussels",
         "Europe",
         "11655930",
         "11561717",
         "11248303",
         "10877947",
         "10264343",
         "9959560",
         "9828986",
         "9629376",
         "30528",
         "381.8111",
         "1.0038",
         "0.15",
         "381.8111242138365",
         "0.8148703172720799",
         "7.151928576228585"
        ],
        [
         "20",
         "Belize",
         "20",
         "177",
         "BLZ",
         "Belmopan",
         "North America",
         "405272",
         "394921",
         "359871",
         "322106",
         "240406",
         "182589",
         "145133",
         "120905",
         "22966",
         "17.6466",
         "1.0131",
         "0.01",
         "17.646608029260648",
         "2.621030535220968",
         "25.819450739818567"
        ],
        [
         "21",
         "Benin",
         "21",
         "77",
         "BEN",
         "Porto-Novo",
         "Africa",
         "13352864",
         "12643123",
         "10932783",
         "9445710",
         "6998023",
         "5133419",
         "3833939",
         "3023443",
         "112622",
         "118.5635",
         "1.0274",
         "0.17",
         "118.56354886256682",
         "5.613652576187071",
         "41.36432306306249"
        ],
        [
         "22",
         "Bermuda",
         "22",
         "206",
         "BMU",
         "Hamilton",
         "North America",
         "64184",
         "64031",
         "63144",
         "63447",
         "61371",
         "57470",
         "53565",
         "52019",
         "54",
         "1188.5926",
         "1.0",
         "0.0",
         "1188.5925925925926",
         "0.23894676016304606",
         "1.1615994452062353"
        ],
        [
         "23",
         "Bhutan",
         "23",
         "165",
         "BTN",
         "Thimphu",
         "Asia",
         "782455",
         "772506",
         "743274",
         "705516",
         "587207",
         "558442",
         "415257",
         "298894",
         "38394",
         "20.3796",
         "1.0064",
         "0.01",
         "20.379616606761473",
         "1.2878864371279963",
         "10.905351544118064"
        ],
        [
         "24",
         "Bolivia",
         "24",
         "80",
         "BOL",
         "Sucre",
         "South America",
         "12224110",
         "11936162",
         "11090085",
         "10223270",
         "8592656",
         "7096194",
         "5736088",
         "4585693",
         "1098581",
         "11.1272",
         "1.012",
         "0.15",
         "11.127181336651553",
         "2.412400233844011",
         "19.5714287111658"
        ],
        [
         "25",
         "Bosnia and Herzegovina",
         "25",
         "137",
         "BIH",
         "Sarajevo",
         "Europe",
         "3233526",
         "3318407",
         "3524324",
         "3811088",
         "4179350",
         "4494310",
         "4199820",
         "3815561",
         "51209",
         "63.1437",
         "0.9886",
         "0.04",
         "63.143705208068894",
         "-2.5578839485331364",
         "-15.154779947353617"
        ],
        [
         "26",
         "Botswana",
         "26",
         "144",
         "BWA",
         "Gaborone",
         "Africa",
         "2630296",
         "2546402",
         "2305171",
         "2091664",
         "1726985",
         "1341474",
         "938578",
         "592244",
         "582000",
         "4.5194",
         "1.0162",
         "0.03",
         "4.519408934707903",
         "3.2946094135961252",
         "25.75136350771443"
        ],
        [
         "27",
         "Brazil",
         "27",
         "7",
         "BRA",
         "Brasilia",
         "South America",
         "215313498",
         "213196304",
         "205188205",
         "196353492",
         "175873720",
         "150706446",
         "122288383",
         "96369875",
         "8515767",
         "25.2841",
         "1.0046",
         "2.7",
         "25.284099247900983",
         "0.9930725628339222",
         "9.656057453768126"
        ],
        [
         "28",
         "British Virgin Islands",
         "28",
         "221",
         "VGB",
         "Road Town",
         "North America",
         "31305",
         "30910",
         "29366",
         "27556",
         "20104",
         "15617",
         "11109",
         "9581",
         "151",
         "207.3179",
         "1.0059",
         "0.0",
         "207.31788079470198",
         "1.2779035910708507",
         "13.605022499637103"
        ],
        [
         "29",
         "Brunei",
         "29",
         "175",
         "BRN",
         "Bandar Seri Begawan",
         "Asia",
         "449002",
         "441725",
         "421437",
         "396053",
         "333926",
         "261928",
         "187921",
         "133343",
         "5765",
         "77.8841",
         "1.0081",
         "0.01",
         "77.88412836079792",
         "1.647405059709095",
         "13.369170287815017"
        ],
        [
         "30",
         "Bulgaria",
         "30",
         "108",
         "BGR",
         "Sofia",
         "Europe",
         "6781953",
         "6979175",
         "7309253",
         "7592273",
         "8097691",
         "8767778",
         "8980606",
         "8582950",
         "110879",
         "61.1654",
         "0.9849",
         "0.09",
         "61.16535141911453",
         "-2.8258640885204915",
         "-10.672956570449983"
        ],
        [
         "31",
         "Burkina Faso",
         "31",
         "58",
         "BFA",
         "Ouagadougou",
         "Africa",
         "22673762",
         "21522626",
         "18718019",
         "16116845",
         "11882888",
         "9131361",
         "6932967",
         "5611666",
         "272967",
         "83.0641",
         "1.0259",
         "0.28",
         "83.06411397714741",
         "5.348492326168749",
         "40.68362635491003"
        ],
        [
         "32",
         "Burundi",
         "32",
         "78",
         "BDI",
         "Bujumbura",
         "Africa",
         "12889576",
         "12220227",
         "10727148",
         "9126605",
         "6307659",
         "5483793",
         "4312834",
         "3497834",
         "27834",
         "463.0874",
         "1.027",
         "0.16",
         "463.0874470072573",
         "5.47738597654528",
         "41.23078625622561"
        ],
        [
         "33",
         "Cambodia",
         "33",
         "73",
         "KHM",
         "Phnom Penh",
         "Asia",
         "16767842",
         "16396860",
         "15417523",
         "14363532",
         "12118841",
         "8910808",
         "6198959",
         "6708525",
         "181035",
         "92.6221",
         "1.0108",
         "0.21",
         "92.62210069875991",
         "2.262518555381945",
         "16.738988711133167"
        ],
        [
         "34",
         "Cameroon",
         "34",
         "53",
         "CMR",
         "Yaounde",
         "Africa",
         "27914536",
         "26491087",
         "23012646",
         "19878036",
         "15091594",
         "11430520",
         "8519891",
         "6452787",
         "475442",
         "58.7128",
         "1.0263",
         "0.35",
         "58.71281039537946",
         "5.373312918416674",
         "40.42904439855125"
        ],
        [
         "35",
         "Canada",
         "35",
         "39",
         "CAN",
         "Ottawa",
         "North America",
         "38454327",
         "37888705",
         "35732126",
         "33963412",
         "30683313",
         "27657204",
         "24511510",
         "21434577",
         "9984670",
         "3.8513",
         "1.0078",
         "0.48",
         "3.8513367993133474",
         "1.4928512336328201",
         "13.222802820870882"
        ],
        [
         "36",
         "Cape Verde",
         "36",
         "171",
         "CPV",
         "Praia",
         "Africa",
         "593149",
         "582640",
         "552166",
         "521212",
         "458251",
         "364563",
         "317234",
         "287262",
         "4033",
         "147.0739",
         "1.0089",
         "0.01",
         "147.07389040416564",
         "1.8036866675820404",
         "13.801869488806858"
        ],
        [
         "37",
         "Cayman Islands",
         "37",
         "205",
         "CYM",
         "George Town",
         "North America",
         "68706",
         "67311",
         "60911",
         "54074",
         "39658",
         "26027",
         "17100",
         "10533",
         "264",
         "260.25",
         "1.0084",
         "0.0",
         "260.25",
         "2.072469581494852",
         "27.059215149609795"
        ],
        [
         "38",
         "Central African Republic",
         "38",
         "117",
         "CAF",
         "Bangui",
         "Africa",
         "5579144",
         "5343020",
         "4819333",
         "4660067",
         "3759170",
         "2809221",
         "2415276",
         "2067356",
         "622984",
         "8.9555",
         "1.0224",
         "0.07",
         "8.955517316656607",
         "4.419298449191656",
         "19.722398841046708"
        ],
        [
         "39",
         "Chad",
         "39",
         "69",
         "TCD",
         "N'Djamena",
         "Africa",
         "17723315",
         "16644701",
         "14140274",
         "11894727",
         "8259137",
         "5827069",
         "4408230",
         "3667394",
         "1284000",
         "13.8032",
         "1.0316",
         "0.22",
         "13.803204828660435",
         "6.480224547139657",
         "49.00144408526568"
        ],
        [
         "40",
         "Chile",
         "40",
         "65",
         "CHL",
         "Santiago",
         "South America",
         "19603733",
         "19300315",
         "17870124",
         "17004162",
         "15351799",
         "13342868",
         "11469828",
         "9820481",
         "756102",
         "25.9274",
         "1.0057",
         "0.25",
         "25.92736561998249",
         "1.5720883312008118",
         "15.287851291936644"
        ],
        [
         "41",
         "China",
         "41",
         "1",
         "CHN",
         "Beijing",
         "Asia",
         "1425887337",
         "1424929781",
         "1393715448",
         "1348191368",
         "1264099069",
         "1153704252",
         "982372466",
         "822534450",
         "9706961",
         "146.8933",
         "1.0",
         "17.88",
         "146.8932796783669",
         "0.06720022367193405",
         "5.762977782246118"
        ],
        [
         "42",
         "Colombia",
         "42",
         "28",
         "COL",
         "Bogota",
         "South America",
         "51874024",
         "50930662",
         "47119728",
         "44816108",
         "39215135",
         "32601393",
         "26176195",
         "20905254",
         "1141748",
         "45.4339",
         "1.0069",
         "0.65",
         "45.433864565560874",
         "1.8522476695865449",
         "15.748614315192208"
        ],
        [
         "43",
         "Comoros",
         "43",
         "163",
         "COM",
         "Moroni",
         "Africa",
         "836774",
         "806166",
         "730216",
         "656024",
         "536758",
         "431119",
         "328328",
         "242351",
         "1862",
         "449.3953",
         "1.0184",
         "0.01",
         "449.39527389903327",
         "3.796736652252762",
         "27.552345645891002"
        ],
        [
         "44",
         "Cook Islands",
         "44",
         "223",
         "COK",
         "Avarua",
         "Oceania",
         "17011",
         "17029",
         "17695",
         "17212",
         "15897",
         "17123",
         "17651",
         "20470",
         "236",
         "72.0805",
         "1.0005",
         "0.0",
         "72.08050847457628",
         "-0.10570203770039345",
         "-1.1677899140134789"
        ],
        [
         "45",
         "Costa Rica",
         "45",
         "124",
         "CRI",
         "San José",
         "North America",
         "5180829",
         "5123105",
         "4895242",
         "4622252",
         "3979193",
         "3158253",
         "2414303",
         "1855697",
         "51100",
         "101.3861",
         "1.0052",
         "0.06",
         "101.38608610567515",
         "1.126738569676007",
         "12.084520705491608"
        ],
        [
         "46",
         "Croatia",
         "46",
         "130",
         "HRV",
         "Zagreb",
         "Europe",
         "4030358",
         "4096868",
         "4254815",
         "4368682",
         "4548434",
         "4873707",
         "4680144",
         "4492638",
         "56594",
         "71.2153",
         "0.9927",
         "0.05",
         "71.21528783970032",
         "-1.6234352681121285",
         "-7.744303659547662"
        ],
        [
         "47",
         "Cuba",
         "47",
         "85",
         "CUB",
         "Havana",
         "North America",
         "11212191",
         "11300698",
         "11339894",
         "11290417",
         "11105791",
         "10626680",
         "9809107",
         "8869636",
         "109884",
         "102.0366",
         "0.9961",
         "0.14",
         "102.03661133559027",
         "-0.7831994094524073",
         "-0.692853062911671"
        ],
        [
         "48",
         "Curacao",
         "48",
         "189",
         "CUW",
         "Willemstad",
         "North America",
         "191163",
         "189288",
         "169572",
         "159380",
         "141424",
         "155446",
         "156851",
         "150385",
         "444",
         "430.5473",
         "1.0043",
         "0.0",
         "430.5472972972973",
         "0.9905540763281349",
         "19.941648889446604"
        ],
        [
         "49",
         "Cyprus",
         "49",
         "158",
         "CYP",
         "Nicosia",
         "Europe",
         "1251488",
         "1237537",
         "1187280",
         "1129686",
         "948237",
         "788500",
         "679327",
         "640804",
         "9251",
         "135.2814",
         "1.0059",
         "0.02",
         "135.28137498648795",
         "1.1273198296293363",
         "10.781934094960901"
        ]
       ],
       "shape": {
        "columns": 21,
        "rows": 234
       }
      },
      "text/html": [
       "<div>\n",
       "<style scoped>\n",
       "    .dataframe tbody tr th:only-of-type {\n",
       "        vertical-align: middle;\n",
       "    }\n",
       "\n",
       "    .dataframe tbody tr th {\n",
       "        vertical-align: top;\n",
       "    }\n",
       "\n",
       "    .dataframe thead th {\n",
       "        text-align: right;\n",
       "    }\n",
       "</style>\n",
       "<table border=\"1\" class=\"dataframe\">\n",
       "  <thead>\n",
       "    <tr style=\"text-align: right;\">\n",
       "      <th></th>\n",
       "      <th>Country/Territory</th>\n",
       "      <th>Unnamed: 0</th>\n",
       "      <th>Rank</th>\n",
       "      <th>CCA3</th>\n",
       "      <th>Capital</th>\n",
       "      <th>Continent</th>\n",
       "      <th>2022 Population</th>\n",
       "      <th>2020 Population</th>\n",
       "      <th>2015 Population</th>\n",
       "      <th>2010 Population</th>\n",
       "      <th>...</th>\n",
       "      <th>1990 Population</th>\n",
       "      <th>1980 Population</th>\n",
       "      <th>1970 Population</th>\n",
       "      <th>Area (km²)</th>\n",
       "      <th>Density (per km²)</th>\n",
       "      <th>Growth Rate</th>\n",
       "      <th>World Population Percentage</th>\n",
       "      <th>pp_density_22</th>\n",
       "      <th>Growth Rate (2020 - 2022)</th>\n",
       "      <th>Growth Rate (2010 - 2022)</th>\n",
       "    </tr>\n",
       "  </thead>\n",
       "  <tbody>\n",
       "    <tr>\n",
       "      <th>0</th>\n",
       "      <td>Afghanistan</td>\n",
       "      <td>0</td>\n",
       "      <td>36</td>\n",
       "      <td>AFG</td>\n",
       "      <td>Kabul</td>\n",
       "      <td>Asia</td>\n",
       "      <td>41128771</td>\n",
       "      <td>38972230</td>\n",
       "      <td>33753499</td>\n",
       "      <td>28189672</td>\n",
       "      <td>...</td>\n",
       "      <td>10694796</td>\n",
       "      <td>12486631</td>\n",
       "      <td>10752971</td>\n",
       "      <td>652230</td>\n",
       "      <td>63.0587</td>\n",
       "      <td>1.0257</td>\n",
       "      <td>0.52</td>\n",
       "      <td>63.058692</td>\n",
       "      <td>5.533532</td>\n",
       "      <td>45.900140</td>\n",
       "    </tr>\n",
       "    <tr>\n",
       "      <th>1</th>\n",
       "      <td>Albania</td>\n",
       "      <td>1</td>\n",
       "      <td>138</td>\n",
       "      <td>ALB</td>\n",
       "      <td>Tirana</td>\n",
       "      <td>Europe</td>\n",
       "      <td>2842321</td>\n",
       "      <td>2866849</td>\n",
       "      <td>2882481</td>\n",
       "      <td>2913399</td>\n",
       "      <td>...</td>\n",
       "      <td>3295066</td>\n",
       "      <td>2941651</td>\n",
       "      <td>2324731</td>\n",
       "      <td>28748</td>\n",
       "      <td>98.8702</td>\n",
       "      <td>0.9957</td>\n",
       "      <td>0.04</td>\n",
       "      <td>98.870217</td>\n",
       "      <td>-0.855573</td>\n",
       "      <td>-2.439693</td>\n",
       "    </tr>\n",
       "    <tr>\n",
       "      <th>2</th>\n",
       "      <td>Algeria</td>\n",
       "      <td>2</td>\n",
       "      <td>34</td>\n",
       "      <td>DZA</td>\n",
       "      <td>Algiers</td>\n",
       "      <td>Africa</td>\n",
       "      <td>44903225</td>\n",
       "      <td>43451666</td>\n",
       "      <td>39543154</td>\n",
       "      <td>35856344</td>\n",
       "      <td>...</td>\n",
       "      <td>25518074</td>\n",
       "      <td>18739378</td>\n",
       "      <td>13795915</td>\n",
       "      <td>2381741</td>\n",
       "      <td>18.8531</td>\n",
       "      <td>1.0164</td>\n",
       "      <td>0.56</td>\n",
       "      <td>18.853110</td>\n",
       "      <td>3.340629</td>\n",
       "      <td>25.230908</td>\n",
       "    </tr>\n",
       "    <tr>\n",
       "      <th>3</th>\n",
       "      <td>American Samoa</td>\n",
       "      <td>3</td>\n",
       "      <td>213</td>\n",
       "      <td>ASM</td>\n",
       "      <td>Pago Pago</td>\n",
       "      <td>Oceania</td>\n",
       "      <td>44273</td>\n",
       "      <td>46189</td>\n",
       "      <td>51368</td>\n",
       "      <td>54849</td>\n",
       "      <td>...</td>\n",
       "      <td>47818</td>\n",
       "      <td>32886</td>\n",
       "      <td>27075</td>\n",
       "      <td>199</td>\n",
       "      <td>222.4774</td>\n",
       "      <td>0.9831</td>\n",
       "      <td>0.00</td>\n",
       "      <td>222.477387</td>\n",
       "      <td>-4.148174</td>\n",
       "      <td>-19.282029</td>\n",
       "    </tr>\n",
       "    <tr>\n",
       "      <th>4</th>\n",
       "      <td>Andorra</td>\n",
       "      <td>4</td>\n",
       "      <td>203</td>\n",
       "      <td>AND</td>\n",
       "      <td>Andorra la Vella</td>\n",
       "      <td>Europe</td>\n",
       "      <td>79824</td>\n",
       "      <td>77700</td>\n",
       "      <td>71746</td>\n",
       "      <td>71519</td>\n",
       "      <td>...</td>\n",
       "      <td>53569</td>\n",
       "      <td>35611</td>\n",
       "      <td>19860</td>\n",
       "      <td>468</td>\n",
       "      <td>170.5641</td>\n",
       "      <td>1.0100</td>\n",
       "      <td>0.00</td>\n",
       "      <td>170.564103</td>\n",
       "      <td>2.733591</td>\n",
       "      <td>11.612299</td>\n",
       "    </tr>\n",
       "    <tr>\n",
       "      <th>...</th>\n",
       "      <td>...</td>\n",
       "      <td>...</td>\n",
       "      <td>...</td>\n",
       "      <td>...</td>\n",
       "      <td>...</td>\n",
       "      <td>...</td>\n",
       "      <td>...</td>\n",
       "      <td>...</td>\n",
       "      <td>...</td>\n",
       "      <td>...</td>\n",
       "      <td>...</td>\n",
       "      <td>...</td>\n",
       "      <td>...</td>\n",
       "      <td>...</td>\n",
       "      <td>...</td>\n",
       "      <td>...</td>\n",
       "      <td>...</td>\n",
       "      <td>...</td>\n",
       "      <td>...</td>\n",
       "      <td>...</td>\n",
       "      <td>...</td>\n",
       "    </tr>\n",
       "    <tr>\n",
       "      <th>229</th>\n",
       "      <td>Wallis and Futuna</td>\n",
       "      <td>229</td>\n",
       "      <td>226</td>\n",
       "      <td>WLF</td>\n",
       "      <td>Mata-Utu</td>\n",
       "      <td>Oceania</td>\n",
       "      <td>11572</td>\n",
       "      <td>11655</td>\n",
       "      <td>12182</td>\n",
       "      <td>13142</td>\n",
       "      <td>...</td>\n",
       "      <td>13454</td>\n",
       "      <td>11315</td>\n",
       "      <td>9377</td>\n",
       "      <td>142</td>\n",
       "      <td>81.4930</td>\n",
       "      <td>0.9953</td>\n",
       "      <td>0.00</td>\n",
       "      <td>81.492958</td>\n",
       "      <td>-0.712141</td>\n",
       "      <td>-11.946431</td>\n",
       "    </tr>\n",
       "    <tr>\n",
       "      <th>230</th>\n",
       "      <td>Western Sahara</td>\n",
       "      <td>230</td>\n",
       "      <td>172</td>\n",
       "      <td>ESH</td>\n",
       "      <td>El Aaiún</td>\n",
       "      <td>Africa</td>\n",
       "      <td>575986</td>\n",
       "      <td>556048</td>\n",
       "      <td>491824</td>\n",
       "      <td>413296</td>\n",
       "      <td>...</td>\n",
       "      <td>178529</td>\n",
       "      <td>116775</td>\n",
       "      <td>76371</td>\n",
       "      <td>266000</td>\n",
       "      <td>2.1654</td>\n",
       "      <td>1.0184</td>\n",
       "      <td>0.01</td>\n",
       "      <td>2.165361</td>\n",
       "      <td>3.585662</td>\n",
       "      <td>39.364039</td>\n",
       "    </tr>\n",
       "    <tr>\n",
       "      <th>231</th>\n",
       "      <td>Yemen</td>\n",
       "      <td>231</td>\n",
       "      <td>46</td>\n",
       "      <td>YEM</td>\n",
       "      <td>Sanaa</td>\n",
       "      <td>Asia</td>\n",
       "      <td>33696614</td>\n",
       "      <td>32284046</td>\n",
       "      <td>28516545</td>\n",
       "      <td>24743946</td>\n",
       "      <td>...</td>\n",
       "      <td>13375121</td>\n",
       "      <td>9204938</td>\n",
       "      <td>6843607</td>\n",
       "      <td>527968</td>\n",
       "      <td>63.8232</td>\n",
       "      <td>1.0217</td>\n",
       "      <td>0.42</td>\n",
       "      <td>63.823213</td>\n",
       "      <td>4.375437</td>\n",
       "      <td>36.181246</td>\n",
       "    </tr>\n",
       "    <tr>\n",
       "      <th>232</th>\n",
       "      <td>Zambia</td>\n",
       "      <td>232</td>\n",
       "      <td>63</td>\n",
       "      <td>ZMB</td>\n",
       "      <td>Lusaka</td>\n",
       "      <td>Africa</td>\n",
       "      <td>20017675</td>\n",
       "      <td>18927715</td>\n",
       "      <td>16248230</td>\n",
       "      <td>13792086</td>\n",
       "      <td>...</td>\n",
       "      <td>7686401</td>\n",
       "      <td>5720438</td>\n",
       "      <td>4281671</td>\n",
       "      <td>752612</td>\n",
       "      <td>26.5976</td>\n",
       "      <td>1.0280</td>\n",
       "      <td>0.25</td>\n",
       "      <td>26.597603</td>\n",
       "      <td>5.758540</td>\n",
       "      <td>45.138850</td>\n",
       "    </tr>\n",
       "    <tr>\n",
       "      <th>233</th>\n",
       "      <td>Zimbabwe</td>\n",
       "      <td>233</td>\n",
       "      <td>74</td>\n",
       "      <td>ZWE</td>\n",
       "      <td>Harare</td>\n",
       "      <td>Africa</td>\n",
       "      <td>16320537</td>\n",
       "      <td>15669666</td>\n",
       "      <td>14154937</td>\n",
       "      <td>12839771</td>\n",
       "      <td>...</td>\n",
       "      <td>10113893</td>\n",
       "      <td>7049926</td>\n",
       "      <td>5202918</td>\n",
       "      <td>390757</td>\n",
       "      <td>41.7665</td>\n",
       "      <td>1.0204</td>\n",
       "      <td>0.20</td>\n",
       "      <td>41.766461</td>\n",
       "      <td>4.153701</td>\n",
       "      <td>27.109253</td>\n",
       "    </tr>\n",
       "  </tbody>\n",
       "</table>\n",
       "<p>234 rows × 21 columns</p>\n",
       "</div>"
      ],
      "text/plain": [
       "     Country/Territory  Unnamed: 0  Rank CCA3           Capital Continent  \\\n",
       "0          Afghanistan           0    36  AFG             Kabul      Asia   \n",
       "1              Albania           1   138  ALB            Tirana    Europe   \n",
       "2              Algeria           2    34  DZA           Algiers    Africa   \n",
       "3       American Samoa           3   213  ASM         Pago Pago   Oceania   \n",
       "4              Andorra           4   203  AND  Andorra la Vella    Europe   \n",
       "..                 ...         ...   ...  ...               ...       ...   \n",
       "229  Wallis and Futuna         229   226  WLF          Mata-Utu   Oceania   \n",
       "230     Western Sahara         230   172  ESH          El Aaiún    Africa   \n",
       "231              Yemen         231    46  YEM             Sanaa      Asia   \n",
       "232             Zambia         232    63  ZMB            Lusaka    Africa   \n",
       "233           Zimbabwe         233    74  ZWE            Harare    Africa   \n",
       "\n",
       "     2022 Population  2020 Population  2015 Population  2010 Population  ...  \\\n",
       "0           41128771         38972230         33753499         28189672  ...   \n",
       "1            2842321          2866849          2882481          2913399  ...   \n",
       "2           44903225         43451666         39543154         35856344  ...   \n",
       "3              44273            46189            51368            54849  ...   \n",
       "4              79824            77700            71746            71519  ...   \n",
       "..               ...              ...              ...              ...  ...   \n",
       "229            11572            11655            12182            13142  ...   \n",
       "230           575986           556048           491824           413296  ...   \n",
       "231         33696614         32284046         28516545         24743946  ...   \n",
       "232         20017675         18927715         16248230         13792086  ...   \n",
       "233         16320537         15669666         14154937         12839771  ...   \n",
       "\n",
       "     1990 Population  1980 Population  1970 Population  Area (km²)  \\\n",
       "0           10694796         12486631         10752971      652230   \n",
       "1            3295066          2941651          2324731       28748   \n",
       "2           25518074         18739378         13795915     2381741   \n",
       "3              47818            32886            27075         199   \n",
       "4              53569            35611            19860         468   \n",
       "..               ...              ...              ...         ...   \n",
       "229            13454            11315             9377         142   \n",
       "230           178529           116775            76371      266000   \n",
       "231         13375121          9204938          6843607      527968   \n",
       "232          7686401          5720438          4281671      752612   \n",
       "233         10113893          7049926          5202918      390757   \n",
       "\n",
       "     Density (per km²)  Growth Rate  World Population Percentage  \\\n",
       "0              63.0587       1.0257                         0.52   \n",
       "1              98.8702       0.9957                         0.04   \n",
       "2              18.8531       1.0164                         0.56   \n",
       "3             222.4774       0.9831                         0.00   \n",
       "4             170.5641       1.0100                         0.00   \n",
       "..                 ...          ...                          ...   \n",
       "229            81.4930       0.9953                         0.00   \n",
       "230             2.1654       1.0184                         0.01   \n",
       "231            63.8232       1.0217                         0.42   \n",
       "232            26.5976       1.0280                         0.25   \n",
       "233            41.7665       1.0204                         0.20   \n",
       "\n",
       "     pp_density_22  Growth Rate (2020 - 2022)  Growth Rate (2010 - 2022)  \n",
       "0        63.058692                   5.533532                  45.900140  \n",
       "1        98.870217                  -0.855573                  -2.439693  \n",
       "2        18.853110                   3.340629                  25.230908  \n",
       "3       222.477387                  -4.148174                 -19.282029  \n",
       "4       170.564103                   2.733591                  11.612299  \n",
       "..             ...                        ...                        ...  \n",
       "229      81.492958                  -0.712141                 -11.946431  \n",
       "230       2.165361                   3.585662                  39.364039  \n",
       "231      63.823213                   4.375437                  36.181246  \n",
       "232      26.597603                   5.758540                  45.138850  \n",
       "233      41.766461                   4.153701                  27.109253  \n",
       "\n",
       "[234 rows x 21 columns]"
      ]
     },
     "execution_count": 54,
     "metadata": {},
     "output_type": "execute_result"
    }
   ],
   "source": [
    "world_pp_ind = world_pp.set_index(\"Country/Territory\")\n",
    "world_pp_ind.reset_index()"
   ]
  },
  {
   "cell_type": "code",
   "execution_count": 55,
   "metadata": {},
   "outputs": [
    {
     "name": "stdout",
     "output_type": "stream",
     "text": [
      "The combined population of North and South America is 1037112744\n"
     ]
    }
   ],
   "source": [
    "north_south = world_pp[world_pp[\"Continent\"].isin([\"North America\", \"South America\"])]\n",
    "combined_pp = north_south[\"2022 Population\"].sum()\n",
    "print(f\"The combined population of North and South America is {combined_pp}\")"
   ]
  },
  {
   "cell_type": "code",
   "execution_count": 56,
   "metadata": {},
   "outputs": [
    {
     "name": "stdout",
     "output_type": "stream",
     "text": [
      "The combined population of some West African countries is 428756142\n"
     ]
    }
   ],
   "source": [
    "west_africa = [\"Niger\", \"Nigeria\", \"Burkina Faso\", \"Benin\", \"Togo\", \"Ghana\", \"Liberia\", \"Mali\", \"Senegal\", \"Guinea\", \"Sierra Leone\", \"Gabon\", \"Angola\"]\n",
    "pp_west_africa = world_pp[world_pp[\"Country/Territory\"].isin(west_africa)]\n",
    "\n",
    "combined_pp_west_africa = pp_west_africa[\"2022 Population\"].sum()\n",
    "\n",
    "print(f\"The combined population of some West African countries is {combined_pp_west_africa}\")\n",
    "\n"
   ]
  },
  {
   "cell_type": "code",
   "execution_count": 57,
   "metadata": {},
   "outputs": [],
   "source": [
    "world_pp[\"Area (Km2)\"] = world_pp[\"Area (km²)\"][:]"
   ]
  },
  {
   "cell_type": "markdown",
   "metadata": {},
   "source": [
    "26. What continent has the largest area (km²)"
   ]
  },
  {
   "cell_type": "code",
   "execution_count": 58,
   "metadata": {},
   "outputs": [
    {
     "name": "stdout",
     "output_type": "stream",
     "text": [
      "Continent with the largest area is Asia with 32138141 kilometer square\n"
     ]
    }
   ],
   "source": [
    "continent_area = world_pp.groupby(\"Continent\")[\"Area (Km2)\"].sum()\n",
    "\n",
    "large_continent = continent_area.idxmax()\n",
    "large_area = continent_area.max()\n",
    "\n",
    "print(f\"Continent with the largest area is {large_continent} with {large_area} kilometer square\")"
   ]
  },
  {
   "cell_type": "markdown",
   "metadata": {},
   "source": [
    "27. How many countries in Oceania have populations over 10 million?"
   ]
  },
  {
   "cell_type": "code",
   "execution_count": 59,
   "metadata": {},
   "outputs": [
    {
     "name": "stdout",
     "output_type": "stream",
     "text": [
      "The number of countries in Oceania with more than 10 million people is 2\n"
     ]
    }
   ],
   "source": [
    "oceania_gth_10_df = world_pp[(world_pp[\"Continent\"] == \"Oceania\") & (world_pp[\"2022 Population\"] > 10_000_000)]\n",
    "num_countries = len(oceania_gth_10_df)\n",
    "print(f\"The number of countries in Oceania with more than 10 million people is {num_countries}\")"
   ]
  },
  {
   "cell_type": "markdown",
   "metadata": {},
   "source": [
    "28. What is the median population size of countries within each continent in 2022?"
   ]
  },
  {
   "cell_type": "code",
   "execution_count": 60,
   "metadata": {},
   "outputs": [
    {
     "name": "stdout",
     "output_type": "stream",
     "text": [
      "               2022 Population\n",
      "Continent                     \n",
      "Africa              13352864.0\n",
      "Asia                18082920.0\n",
      "Europe               5228714.0\n",
      "North America         236399.0\n",
      "Oceania               114164.0\n",
      "South America       15112555.0\n"
     ]
    }
   ],
   "source": [
    "median_pp_vs_continent = world_pp.pivot_table(values=\"2022 Population\", index=\"Continent\", aggfunc=\"median\")\n",
    "print(median_pp_vs_continent)"
   ]
  },
  {
   "cell_type": "markdown",
   "metadata": {},
   "source": [
    "29. What is the average population growth rate for each continent ?"
   ]
  },
  {
   "cell_type": "code",
   "execution_count": 61,
   "metadata": {},
   "outputs": [
    {
     "name": "stdout",
     "output_type": "stream",
     "text": [
      "               Growth Rate\n",
      "Continent                 \n",
      "Africa            1.021244\n",
      "Asia              1.009384\n",
      "Europe            1.002256\n",
      "North America     1.004175\n",
      "Oceania           1.007383\n",
      "South America     1.007957\n"
     ]
    }
   ],
   "source": [
    "avg_pp_growth_rate = world_pp.pivot_table(values=\"Growth Rate\", index=\"Continent\", aggfunc=\"mean\")\n",
    "print(avg_pp_growth_rate)"
   ]
  },
  {
   "cell_type": "markdown",
   "metadata": {},
   "source": [
    "30.  How many countries in Europe had a negative population growth rate in 2022?  "
   ]
  },
  {
   "cell_type": "code",
   "execution_count": 62,
   "metadata": {},
   "outputs": [
    {
     "name": "stdout",
     "output_type": "stream",
     "text": [
      "There are 0 countries in Europe with negative population growth rate in 2022\n"
     ]
    }
   ],
   "source": [
    "neg_pp_growth_in_europe = world_pp[(world_pp[\"Continent\"] == \"Europe\") & (world_pp[\"Growth Rate\"] < 0)]\n",
    "num_countries = len(neg_pp_growth_in_europe)\n",
    "print(f\"There are {num_countries} countries in Europe with negative population growth rate in 2022\")"
   ]
  },
  {
   "cell_type": "markdown",
   "metadata": {},
   "source": [
    "# 31–35: Country Comparisons"
   ]
  },
  {
   "cell_type": "markdown",
   "metadata": {},
   "source": [
    "31. How many countries have a population greater than the world's average population?"
   ]
  },
  {
   "cell_type": "code",
   "execution_count": 6,
   "metadata": {},
   "outputs": [
    {
     "name": "stdout",
     "output_type": "stream",
     "text": [
      "The number of countries with population greater than world's average population is 234\n"
     ]
    }
   ],
   "source": [
    "avg_world_pp22 = world_pp[\"2022 Population\"].mean()\n",
    "num_countries = len(world_pp[\"2022 Population\"] > avg_world_pp22)\n",
    "print(f\"The number of countries with population greater than world's average population is {num_countries}\")"
   ]
  },
  {
   "cell_type": "markdown",
   "metadata": {},
   "source": [
    "32. What are the top 5 most populous capitals in 2022?"
   ]
  },
  {
   "cell_type": "code",
   "execution_count": 10,
   "metadata": {},
   "outputs": [
    {
     "name": "stdout",
     "output_type": "stream",
     "text": [
      " Top 5 most populous capitals in 2022 are\n",
      "              Capital  2022 Population\n",
      "41            Beijing       1425887337\n",
      "92          New Delhi       1417173173\n",
      "221  Washington, D.C.        338289857\n",
      "93            Jakarta        275501339\n",
      "156         Islamabad        235824862\n"
     ]
    }
   ],
   "source": [
    "top_5_populous_capital = world_pp[[\"Capital\", \"2022 Population\"]].sort_values(by =\"2022 Population\", ascending = False).head(5)\n",
    "print(\" Top 5 most populous capitals in 2022 are\")\n",
    "print(top_5_populous_capital)"
   ]
  },
  {
   "cell_type": "markdown",
   "metadata": {},
   "source": [
    "33. what are capitals with less population growth rate "
   ]
  },
  {
   "cell_type": "code",
   "execution_count": 11,
   "metadata": {},
   "outputs": [
    {
     "name": "stdout",
     "output_type": "stream",
     "text": [
      "Less populous city in 2022 are :\n",
      "       Capital  Growth Rate\n",
      "218       Kiev       0.9120\n",
      "112     Beirut       0.9816\n",
      "3    Pago Pago       0.9831\n"
     ]
    }
   ],
   "source": [
    "less_population_growth_rate = world_pp[[\"Capital\", \"Growth Rate\"]].sort_values(by=\"Growth Rate\", ascending = True).head(3)\n",
    "print(\"Less populous city in 2022 are :\")\n",
    "print(less_population_growth_rate)"
   ]
  },
  {
   "cell_type": "markdown",
   "metadata": {},
   "source": [
    "34. What is the combined population of the 5 least populous countries?"
   ]
  },
  {
   "cell_type": "code",
   "execution_count": 14,
   "metadata": {},
   "outputs": [
    {
     "name": "stdout",
     "output_type": "stream",
     "text": [
      "          Capital  2022 Population\n",
      "226  Vatican City              510\n",
      "209      Nukunonu             1871\n",
      "150         Alofi             1934\n",
      "64        Stanley             3780\n",
      "137        Brades             4390\n",
      "The combined population of the 5 least populous countries is 2022 Population    12485\n",
      "dtype: int64\n"
     ]
    }
   ],
   "source": [
    "least_pp  = world_pp[[\"Capital\", \"2022 Population\"]].sort_values(by=\"2022 Population\", ascending= True).head(5)\n",
    "combined_pp = least_pp[[\"2022 Population\"]].sum()\n",
    "print(least_pp)\n",
    "print(f\"The combined population of the 5 least populous countries is {combined_pp}\")"
   ]
  },
  {
   "cell_type": "markdown",
   "metadata": {},
   "source": [
    "35. Which countries have a population density above 1000 people per km²?"
   ]
  },
  {
   "cell_type": "code",
   "execution_count": 17,
   "metadata": {},
   "outputs": [
    {
     "name": "stdout",
     "output_type": "stream",
     "text": [
      "The following are countries with population density above 1000 people per km2 :\n",
      "      Capital  Density (per km²)\n",
      "15     Manama          1924.4876\n",
      "16      Dhaka          1160.0350\n",
      "22   Hamilton          1188.5926\n",
      "76  Gibraltar          5441.5000\n",
      "89  Hong Kong          6783.3922\n"
     ]
    }
   ],
   "source": [
    "densed_countries = world_pp[world_pp[\"Density (per km²)\"] > 1_000]\n",
    "capital = densed_countries[[\"Capital\", \"Density (per km²)\"]].head()\n",
    "print(\"The following are countries with population density above 1000 people per km2 :\")\n",
    "print(capital)"
   ]
  },
  {
   "cell_type": "markdown",
   "metadata": {},
   "source": [
    "# 36-45: Time-Based Analysis"
   ]
  },
  {
   "cell_type": "code",
   "execution_count": 18,
   "metadata": {},
   "outputs": [
    {
     "data": {
      "application/vnd.microsoft.datawrangler.viewer.v0+json": {
       "columns": [
        {
         "name": "index",
         "rawType": "int64",
         "type": "integer"
        },
        {
         "name": "Unnamed: 0",
         "rawType": "int64",
         "type": "integer"
        },
        {
         "name": "Rank",
         "rawType": "int64",
         "type": "integer"
        },
        {
         "name": "CCA3",
         "rawType": "object",
         "type": "string"
        },
        {
         "name": "Country/Territory",
         "rawType": "object",
         "type": "string"
        },
        {
         "name": "Capital",
         "rawType": "object",
         "type": "string"
        },
        {
         "name": "Continent",
         "rawType": "object",
         "type": "string"
        },
        {
         "name": "2022 Population",
         "rawType": "int64",
         "type": "integer"
        },
        {
         "name": "2020 Population",
         "rawType": "int64",
         "type": "integer"
        },
        {
         "name": "2015 Population",
         "rawType": "int64",
         "type": "integer"
        },
        {
         "name": "2010 Population",
         "rawType": "int64",
         "type": "integer"
        },
        {
         "name": "2000 Population",
         "rawType": "int64",
         "type": "integer"
        },
        {
         "name": "1990 Population",
         "rawType": "int64",
         "type": "integer"
        },
        {
         "name": "1980 Population",
         "rawType": "int64",
         "type": "integer"
        },
        {
         "name": "1970 Population",
         "rawType": "int64",
         "type": "integer"
        },
        {
         "name": "Area (km²)",
         "rawType": "int64",
         "type": "integer"
        },
        {
         "name": "Density (per km²)",
         "rawType": "float64",
         "type": "float"
        },
        {
         "name": "Growth Rate",
         "rawType": "float64",
         "type": "float"
        },
        {
         "name": "World Population Percentage",
         "rawType": "float64",
         "type": "float"
        }
       ],
       "conversionMethod": "pd.DataFrame",
       "ref": "5d175c58-e535-4321-b565-132e259a679d",
       "rows": [
        [
         "0",
         "0",
         "36",
         "AFG",
         "Afghanistan",
         "Kabul",
         "Asia",
         "41128771",
         "38972230",
         "33753499",
         "28189672",
         "19542982",
         "10694796",
         "12486631",
         "10752971",
         "652230",
         "63.0587",
         "1.0257",
         "0.52"
        ],
        [
         "1",
         "1",
         "138",
         "ALB",
         "Albania",
         "Tirana",
         "Europe",
         "2842321",
         "2866849",
         "2882481",
         "2913399",
         "3182021",
         "3295066",
         "2941651",
         "2324731",
         "28748",
         "98.8702",
         "0.9957",
         "0.04"
        ],
        [
         "2",
         "2",
         "34",
         "DZA",
         "Algeria",
         "Algiers",
         "Africa",
         "44903225",
         "43451666",
         "39543154",
         "35856344",
         "30774621",
         "25518074",
         "18739378",
         "13795915",
         "2381741",
         "18.8531",
         "1.0164",
         "0.56"
        ],
        [
         "3",
         "3",
         "213",
         "ASM",
         "American Samoa",
         "Pago Pago",
         "Oceania",
         "44273",
         "46189",
         "51368",
         "54849",
         "58230",
         "47818",
         "32886",
         "27075",
         "199",
         "222.4774",
         "0.9831",
         "0.0"
        ],
        [
         "4",
         "4",
         "203",
         "AND",
         "Andorra",
         "Andorra la Vella",
         "Europe",
         "79824",
         "77700",
         "71746",
         "71519",
         "66097",
         "53569",
         "35611",
         "19860",
         "468",
         "170.5641",
         "1.01",
         "0.0"
        ]
       ],
       "shape": {
        "columns": 18,
        "rows": 5
       }
      },
      "text/html": [
       "<div>\n",
       "<style scoped>\n",
       "    .dataframe tbody tr th:only-of-type {\n",
       "        vertical-align: middle;\n",
       "    }\n",
       "\n",
       "    .dataframe tbody tr th {\n",
       "        vertical-align: top;\n",
       "    }\n",
       "\n",
       "    .dataframe thead th {\n",
       "        text-align: right;\n",
       "    }\n",
       "</style>\n",
       "<table border=\"1\" class=\"dataframe\">\n",
       "  <thead>\n",
       "    <tr style=\"text-align: right;\">\n",
       "      <th></th>\n",
       "      <th>Unnamed: 0</th>\n",
       "      <th>Rank</th>\n",
       "      <th>CCA3</th>\n",
       "      <th>Country/Territory</th>\n",
       "      <th>Capital</th>\n",
       "      <th>Continent</th>\n",
       "      <th>2022 Population</th>\n",
       "      <th>2020 Population</th>\n",
       "      <th>2015 Population</th>\n",
       "      <th>2010 Population</th>\n",
       "      <th>2000 Population</th>\n",
       "      <th>1990 Population</th>\n",
       "      <th>1980 Population</th>\n",
       "      <th>1970 Population</th>\n",
       "      <th>Area (km²)</th>\n",
       "      <th>Density (per km²)</th>\n",
       "      <th>Growth Rate</th>\n",
       "      <th>World Population Percentage</th>\n",
       "    </tr>\n",
       "  </thead>\n",
       "  <tbody>\n",
       "    <tr>\n",
       "      <th>0</th>\n",
       "      <td>0</td>\n",
       "      <td>36</td>\n",
       "      <td>AFG</td>\n",
       "      <td>Afghanistan</td>\n",
       "      <td>Kabul</td>\n",
       "      <td>Asia</td>\n",
       "      <td>41128771</td>\n",
       "      <td>38972230</td>\n",
       "      <td>33753499</td>\n",
       "      <td>28189672</td>\n",
       "      <td>19542982</td>\n",
       "      <td>10694796</td>\n",
       "      <td>12486631</td>\n",
       "      <td>10752971</td>\n",
       "      <td>652230</td>\n",
       "      <td>63.0587</td>\n",
       "      <td>1.0257</td>\n",
       "      <td>0.52</td>\n",
       "    </tr>\n",
       "    <tr>\n",
       "      <th>1</th>\n",
       "      <td>1</td>\n",
       "      <td>138</td>\n",
       "      <td>ALB</td>\n",
       "      <td>Albania</td>\n",
       "      <td>Tirana</td>\n",
       "      <td>Europe</td>\n",
       "      <td>2842321</td>\n",
       "      <td>2866849</td>\n",
       "      <td>2882481</td>\n",
       "      <td>2913399</td>\n",
       "      <td>3182021</td>\n",
       "      <td>3295066</td>\n",
       "      <td>2941651</td>\n",
       "      <td>2324731</td>\n",
       "      <td>28748</td>\n",
       "      <td>98.8702</td>\n",
       "      <td>0.9957</td>\n",
       "      <td>0.04</td>\n",
       "    </tr>\n",
       "    <tr>\n",
       "      <th>2</th>\n",
       "      <td>2</td>\n",
       "      <td>34</td>\n",
       "      <td>DZA</td>\n",
       "      <td>Algeria</td>\n",
       "      <td>Algiers</td>\n",
       "      <td>Africa</td>\n",
       "      <td>44903225</td>\n",
       "      <td>43451666</td>\n",
       "      <td>39543154</td>\n",
       "      <td>35856344</td>\n",
       "      <td>30774621</td>\n",
       "      <td>25518074</td>\n",
       "      <td>18739378</td>\n",
       "      <td>13795915</td>\n",
       "      <td>2381741</td>\n",
       "      <td>18.8531</td>\n",
       "      <td>1.0164</td>\n",
       "      <td>0.56</td>\n",
       "    </tr>\n",
       "    <tr>\n",
       "      <th>3</th>\n",
       "      <td>3</td>\n",
       "      <td>213</td>\n",
       "      <td>ASM</td>\n",
       "      <td>American Samoa</td>\n",
       "      <td>Pago Pago</td>\n",
       "      <td>Oceania</td>\n",
       "      <td>44273</td>\n",
       "      <td>46189</td>\n",
       "      <td>51368</td>\n",
       "      <td>54849</td>\n",
       "      <td>58230</td>\n",
       "      <td>47818</td>\n",
       "      <td>32886</td>\n",
       "      <td>27075</td>\n",
       "      <td>199</td>\n",
       "      <td>222.4774</td>\n",
       "      <td>0.9831</td>\n",
       "      <td>0.00</td>\n",
       "    </tr>\n",
       "    <tr>\n",
       "      <th>4</th>\n",
       "      <td>4</td>\n",
       "      <td>203</td>\n",
       "      <td>AND</td>\n",
       "      <td>Andorra</td>\n",
       "      <td>Andorra la Vella</td>\n",
       "      <td>Europe</td>\n",
       "      <td>79824</td>\n",
       "      <td>77700</td>\n",
       "      <td>71746</td>\n",
       "      <td>71519</td>\n",
       "      <td>66097</td>\n",
       "      <td>53569</td>\n",
       "      <td>35611</td>\n",
       "      <td>19860</td>\n",
       "      <td>468</td>\n",
       "      <td>170.5641</td>\n",
       "      <td>1.0100</td>\n",
       "      <td>0.00</td>\n",
       "    </tr>\n",
       "  </tbody>\n",
       "</table>\n",
       "</div>"
      ],
      "text/plain": [
       "   Unnamed: 0  Rank CCA3 Country/Territory           Capital Continent  \\\n",
       "0           0    36  AFG       Afghanistan             Kabul      Asia   \n",
       "1           1   138  ALB           Albania            Tirana    Europe   \n",
       "2           2    34  DZA           Algeria           Algiers    Africa   \n",
       "3           3   213  ASM    American Samoa         Pago Pago   Oceania   \n",
       "4           4   203  AND           Andorra  Andorra la Vella    Europe   \n",
       "\n",
       "   2022 Population  2020 Population  2015 Population  2010 Population  \\\n",
       "0         41128771         38972230         33753499         28189672   \n",
       "1          2842321          2866849          2882481          2913399   \n",
       "2         44903225         43451666         39543154         35856344   \n",
       "3            44273            46189            51368            54849   \n",
       "4            79824            77700            71746            71519   \n",
       "\n",
       "   2000 Population  1990 Population  1980 Population  1970 Population  \\\n",
       "0         19542982         10694796         12486631         10752971   \n",
       "1          3182021          3295066          2941651          2324731   \n",
       "2         30774621         25518074         18739378         13795915   \n",
       "3            58230            47818            32886            27075   \n",
       "4            66097            53569            35611            19860   \n",
       "\n",
       "   Area (km²)  Density (per km²)  Growth Rate  World Population Percentage  \n",
       "0      652230            63.0587       1.0257                         0.52  \n",
       "1       28748            98.8702       0.9957                         0.04  \n",
       "2     2381741            18.8531       1.0164                         0.56  \n",
       "3         199           222.4774       0.9831                         0.00  \n",
       "4         468           170.5641       1.0100                         0.00  "
      ]
     },
     "execution_count": 18,
     "metadata": {},
     "output_type": "execute_result"
    }
   ],
   "source": [
    "world_pp.head()"
   ]
  },
  {
   "cell_type": "markdown",
   "metadata": {},
   "source": [
    "36. What is the global population trend from 2000 to 2022?"
   ]
  },
  {
   "cell_type": "code",
   "execution_count": 20,
   "metadata": {},
   "outputs": [
    {
     "name": "stderr",
     "output_type": "stream",
     "text": [
      "<>:9: SyntaxWarning: invalid escape sequence '\\d'\n",
      "<>:9: SyntaxWarning: invalid escape sequence '\\d'\n",
      "C:\\Users\\Danhaya\\AppData\\Local\\Temp\\ipykernel_9268\\1916361304.py:9: SyntaxWarning: invalid escape sequence '\\d'\n",
      "  global_pp_df['Year'] = global_pp_df['Year'].str.extract('(\\d+)')\n"
     ]
    },
    {
     "data": {
      "image/png": "[encoded data removed]",
      "text/plain": [
       "<Figure size 1000x900 with 1 Axes>"
      ]
     },
     "metadata": {},
     "output_type": "display_data"
    }
   ],
   "source": [
    "import matplotlib.pyplot as plt\n",
    "\n",
    "population_columns = [\"2000 Population\", \"2010 Population\", \"2015 Population\", \"2022 Population\", \"2022 Population\"]\n",
    "global_population = world_pp[population_columns].sum()\n",
    "\n",
    "global_pp_df = global_population.reset_index()\n",
    "global_pp_df.columns = ['Year', 'Global Population']\n",
    "\n",
    "global_pp_df['Year'] = global_pp_df['Year'].str.extract('(\\d+)')\n",
    "\n",
    "#plot the trend\n",
    "\n",
    "plt.figure(figsize=(10, 9))\n",
    "plt.plot(global_pp_df['Year'], global_pp_df['Global Population'], marker = 'o')\n",
    "plt.title('Global Population Trend (2000 - 2022)')\n",
    "plt.xlabel('Year')\n",
    "plt.ylabel('Population')\n",
    "plt.grid(True)\n",
    "plt.show()"
   ]
  },
  {
   "cell_type": "markdown",
   "metadata": {},
   "source": [
    "37. What was the average population growth rate for the last two decades?"
   ]
  },
  {
   "cell_type": "code",
   "execution_count": 22,
   "metadata": {},
   "outputs": [
    {
     "name": "stdout",
     "output_type": "stream",
     "text": [
      "The average population growth rate for the last two decades is 1.38%\n"
     ]
    }
   ],
   "source": [
    "pop_2000 = world_pp[\"2000 Population\"].sum()\n",
    "pop_2020 = world_pp[\"2020 Population\"].sum()\n",
    "\n",
    "#Growth rate\n",
    "\n",
    "growth_rate = (((pop_2020) - (pop_2000)) / (pop_2000)) * 100\n",
    "avg_growth_rate = growth_rate / 20\n",
    "\n",
    "print(f\"The average population growth rate for the last two decades is {avg_growth_rate:.2f}%\")\n"
   ]
  },
  {
   "cell_type": "markdown",
   "metadata": {},
   "source": [
    "38. How did the total population of small island nations change over time?"
   ]
  },
  {
   "cell_type": "code",
   "execution_count": 28,
   "metadata": {},
   "outputs": [
    {
     "name": "stderr",
     "output_type": "stream",
     "text": [
      "<>:17: SyntaxWarning: invalid escape sequence '\\d'\n",
      "<>:17: SyntaxWarning: invalid escape sequence '\\d'\n",
      "C:\\Users\\Danhaya\\AppData\\Local\\Temp\\ipykernel_9268\\1165507413.py:17: SyntaxWarning: invalid escape sequence '\\d'\n",
      "  island_population_df['Year'] = island_population_df['Year'].str.extract('(\\d+)')\n"
     ]
    },
    {
     "data": {
      "image/png": "[encoded data removed]",
      "text/plain": [
       "<Figure size 1000x600 with 1 Axes>"
      ]
     },
     "metadata": {},
     "output_type": "display_data"
    }
   ],
   "source": [
    "import matplotlib.pyplot as plt\n",
    "\n",
    "small_island_nations = ['Maldives', 'Seychelles', 'Fiji', 'Mauritius', 'Comoros', 'Vanuatu', 'Samoa', 'Solomon Island', 'Tonga', 'Kiribati']\n",
    "\n",
    "#dataframe\n",
    "island_nations_df = world_pp[world_pp[\"Country/Territory\"].isin(small_island_nations)]\n",
    "\n",
    "#population column\n",
    "population_columns = [\"2000 Population\", \"2010 Population\", \"2015 Population\", \"2020 Population\", \"2022 Population\"]\n",
    "\n",
    "island_population = island_nations_df[population_columns].sum()\n",
    "\n",
    "island_population_df = island_population.reset_index()\n",
    "island_population_df.columns = ['Year', 'Total Population']\n",
    "\n",
    "#Extract years from column names\n",
    "island_population_df['Year'] = island_population_df['Year'].str.extract('(\\d+)')\n",
    "\n",
    "#plot the trend\n",
    "\n",
    "plt.figure(figsize=(10, 6))\n",
    "plt.plot(island_population_df['Year'], island_population_df['Total Population'], marker='o', color='teal')\n",
    "plt.title('Population Trend of Small Island Nations (2000 - 2022)')\n",
    "plt.xlabel('Year')\n",
    "plt.ylabel('Total Population')\n",
    "plt.grid(True)\n",
    "plt.show()"
   ]
  },
  {
   "cell_type": "markdown",
   "metadata": {},
   "source": [
    "39. How many countries doubled their population between 2000 and 2022?"
   ]
  },
  {
   "cell_type": "code",
   "execution_count": 2,
   "metadata": {},
   "outputs": [
    {
     "name": "stdout",
     "output_type": "stream",
     "text": [
      "The number of countries doubled their population from 2000 to 20222 are 18\n",
      "            Country/Territory  2000 Population  2022 Population\n",
      "0                 Afghanistan         19542982         41128771\n",
      "5                      Angola         16394062         35588987\n",
      "15                    Bahrain           711442          1472233\n",
      "32                    Burundi          6307659         12889576\n",
      "39                       Chad          8259137         17723315\n",
      "55                   DR Congo         48616317         99010212\n",
      "59          Equatorial Guinea           684977          1674908\n",
      "104                    Jordan          5056174         11285869\n",
      "108                    Kuwait          1934901          4268873\n",
      "124                      Mali         11239101         22593590\n",
      "130                   Mayotte           159215           326101\n",
      "148                     Niger         11622665         26207977\n",
      "167                     Qatar           645937          2695122\n",
      "192                   Somalia          8721465         17597511\n",
      "215  Turks and Caicos Islands            18744            45703\n",
      "219      United Arab Emirates          3275333          9441129\n",
      "230            Western Sahara           270375           575986\n",
      "232                    Zambia          9891136         20017675\n"
     ]
    }
   ],
   "source": [
    "# Filter rows where the 2022 population is atleast twice the 2000 population\n",
    "\n",
    "doubled_population = world_pp[world_pp[\"2022 Population\"] >= 2 * world_pp[\"2000 Population\"]]\n",
    "num_countries_doubled = doubled_population[\"Country/Territory\"].nunique()\n",
    "\n",
    "print(f\"The number of countries doubled their population from 2000 to 20222 are {num_countries_doubled}\")\n",
    "\n",
    "#Display the countries that doubled\n",
    "print(doubled_population[['Country/Territory', '2000 Population', '2022 Population']])"
   ]
  },
  {
   "cell_type": "markdown",
   "metadata": {},
   "source": [
    "40. How did Africa's population change from 2000 to 2022?"
   ]
  },
  {
   "cell_type": "code",
   "execution_count": 10,
   "metadata": {},
   "outputs": [
    {
     "name": "stdout",
     "output_type": "stream",
     "text": [
      "Africa's Population in 2000 : 818946032.00\n",
      "Africa's Population in 2022 : 1426730932.00\n",
      "Absolute population change : 607784900.00\n",
      "Growth rate from 2000 to 2022 : 74.22%\n"
     ]
    }
   ],
   "source": [
    "# column clean\n",
    "world_pp.columns = world_pp.columns.str.strip()\n",
    "\n",
    "# Filter African countries\n",
    "african_countries_df = world_pp[world_pp[\"Continent\"] == 'Africa']\n",
    "\n",
    "african_population_2000 = african_countries_df[\"2000 Population\"].sum()\n",
    "african_population_2022 = african_countries_df[\"2022 Population\"].sum()\n",
    "\n",
    "absolute_population_change = african_population_2022 - african_population_2000\n",
    "growth_rate = (absolute_population_change / african_population_2000) * 100\n",
    "\n",
    "# Display the result\n",
    "\n",
    "print(f\"Africa's Population in 2000 : {african_population_2000:.2f}\")\n",
    "print(f\"Africa's Population in 2022 : {african_population_2022:.2f}\")\n",
    "print(f\"Absolute population change : {absolute_population_change:.2f}\")\n",
    "print(f\"Growth rate from 2000 to 2022 : {growth_rate:.2f}%\")\n"
   ]
  },
  {
   "cell_type": "markdown",
   "metadata": {},
   "source": [
    "# 41–50: Advanced Insights & Visualizations"
   ]
  },
  {
   "cell_type": "code",
   "execution_count": null,
   "metadata": {},
   "outputs": [],
   "source": []
  }
 ],
 "metadata": {
  "kernelspec": {
   "display_name": "base",
   "language": "python",
   "name": "python3"
  },
  "language_info": {
   "codemirror_mode": {
    "name": "ipython",
    "version": 3
   },
   "file_extension": ".py",
   "mimetype": "text/x-python",
   "name": "python",
   "nbconvert_exporter": "python",
   "pygments_lexer": "ipython3",
   "version": "3.12.3"
  }
 },
 "nbformat": 4,
 "nbformat_minor": 2
}
