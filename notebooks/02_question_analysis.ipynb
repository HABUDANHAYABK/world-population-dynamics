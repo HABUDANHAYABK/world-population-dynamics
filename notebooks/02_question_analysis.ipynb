{
 "cells": [
  {
   "cell_type": "markdown",
   "metadata": {},
   "source": [
    "# ANALYSIS OF THE QUESTIONS"
   ]
  },
  {
   "cell_type": "markdown",
   "metadata": {},
   "source": [
    "#  1–20: General Population Trends"
   ]
  },
  {
   "cell_type": "code",
   "execution_count": 1,
   "metadata": {},
   "outputs": [
    {
     "name": "stdout",
     "output_type": "stream",
     "text": [
      "   Unnamed: 0  Rank CCA3    Country/Territory           Capital  \\\n",
      "0           0    36  AFG          Afghanistan             Kabul   \n",
      "1           1   138  ALB              Albania            Tirana   \n",
      "2           2    34  DZA              Algeria           Algiers   \n",
      "3           3   213  ASM       American Samoa         Pago Pago   \n",
      "4           4   203  AND              Andorra  Andorra la Vella   \n",
      "5           5    42  AGO               Angola            Luanda   \n",
      "6           6   224  AIA             Anguilla        The Valley   \n",
      "7           7   201  ATG  Antigua and Barbuda      Saint John’s   \n",
      "8           8    33  ARG            Argentina      Buenos Aires   \n",
      "9           9   140  ARM              Armenia           Yerevan   \n",
      "\n",
      "       Continent  2022 Population  2020 Population  2015 Population  \\\n",
      "0           Asia         41128771         38972230         33753499   \n",
      "1         Europe          2842321          2866849          2882481   \n",
      "2         Africa         44903225         43451666         39543154   \n",
      "3        Oceania            44273            46189            51368   \n",
      "4         Europe            79824            77700            71746   \n",
      "5         Africa         35588987         33428485         28127721   \n",
      "6  North America            15857            15585            14525   \n",
      "7  North America            93763            92664            89941   \n",
      "8  South America         45510318         45036032         43257065   \n",
      "9           Asia          2780469          2805608          2878595   \n",
      "\n",
      "   2010 Population  2000 Population  1990 Population  1980 Population  \\\n",
      "0         28189672         19542982         10694796         12486631   \n",
      "1          2913399          3182021          3295066          2941651   \n",
      "2         35856344         30774621         25518074         18739378   \n",
      "3            54849            58230            47818            32886   \n",
      "4            71519            66097            53569            35611   \n",
      "5         23364185         16394062         11828638          8330047   \n",
      "6            13172            11047             8316             6560   \n",
      "7            85695            75055            63328            64888   \n",
      "8         41100123         37070774         32637657         28024803   \n",
      "9          2946293          3168523          3556539          3135123   \n",
      "\n",
      "   1970 Population  Area (km²)  Density (per km²)  Growth Rate  \\\n",
      "0         10752971      652230            63.0587       1.0257   \n",
      "1          2324731       28748            98.8702       0.9957   \n",
      "2         13795915     2381741            18.8531       1.0164   \n",
      "3            27075         199           222.4774       0.9831   \n",
      "4            19860         468           170.5641       1.0100   \n",
      "5          6029700     1246700            28.5466       1.0315   \n",
      "6             6283          91           174.2527       1.0066   \n",
      "7            64516         442           212.1335       1.0058   \n",
      "8         23842803     2780400            16.3683       1.0052   \n",
      "9          2534377       29743            93.4831       0.9962   \n",
      "\n",
      "   World Population Percentage  \n",
      "0                         0.52  \n",
      "1                         0.04  \n",
      "2                         0.56  \n",
      "3                         0.00  \n",
      "4                         0.00  \n",
      "5                         0.45  \n",
      "6                         0.00  \n",
      "7                         0.00  \n",
      "8                         0.57  \n",
      "9                         0.03  \n"
     ]
    }
   ],
   "source": [
    "import pandas as pd\n",
    "import numpy as np\n",
    "\n",
    "world_pp = pd.read_csv(\"../data/processed_data/processed_data.csv\")\n",
    "print(world_pp.head(10))"
   ]
  },
  {
   "cell_type": "markdown",
   "metadata": {},
   "source": [
    "1. What is the total world population in 2022?"
   ]
  },
  {
   "cell_type": "code",
   "execution_count": 10,
   "metadata": {},
   "outputs": [
    {
     "name": "stdout",
     "output_type": "stream",
     "text": [
      "The world population in 2022 is 7973413042\n"
     ]
    }
   ],
   "source": [
    "world_pp22 = world_pp[\"2022 Population\"].sum()\n",
    "print(\"The world population in 2022 is \" + str(world_pp22))"
   ]
  },
  {
   "cell_type": "markdown",
   "metadata": {},
   "source": [
    "2. What is the total population growth from 2020 to 2022?"
   ]
  },
  {
   "cell_type": "code",
   "execution_count": 12,
   "metadata": {},
   "outputs": [],
   "source": [
    "pp_growth = (world_pp[\"2022 Population\"].sum()) - (world_pp[\"2020 Population\"].sum())"
   ]
  },
  {
   "cell_type": "code",
   "execution_count": 14,
   "metadata": {},
   "outputs": [
    {
     "name": "stdout",
     "output_type": "stream",
     "text": [
      "The world population growth between 2020 and 2022 is 134162439\n"
     ]
    }
   ],
   "source": [
    "print(\"The world population growth between 2020 and 2022 is \" + str(pp_growth))"
   ]
  },
  {
   "cell_type": "markdown",
   "metadata": {},
   "source": [
    "3. Which country had the largest population in 2022?"
   ]
  },
  {
   "cell_type": "code",
   "execution_count": 17,
   "metadata": {},
   "outputs": [
    {
     "name": "stdout",
     "output_type": "stream",
     "text": [
      "Unnamed: 0                             41\n",
      "Rank                                    1\n",
      "CCA3                                  CHN\n",
      "Country/Territory                   China\n",
      "Capital                           Beijing\n",
      "Continent                            Asia\n",
      "2022 Population                1425887337\n",
      "2020 Population                1424929781\n",
      "2015 Population                1393715448\n",
      "2010 Population                1348191368\n",
      "2000 Population                1264099069\n",
      "1990 Population                1153704252\n",
      "1980 Population                 982372466\n",
      "1970 Population                 822534450\n",
      "Area (km²)                        9706961\n",
      "Density (per km²)                146.8933\n",
      "Growth Rate                           1.0\n",
      "World Population Percentage         17.88\n",
      "Name: 41, dtype: object\n"
     ]
    }
   ],
   "source": [
    "max_population_row = world_pp.loc[world_pp[\"2022 Population\"].idxmax()]\n",
    "print(max_population_row)"
   ]
  },
  {
   "cell_type": "code",
   "execution_count": 23,
   "metadata": {},
   "outputs": [
    {
     "name": "stdout",
     "output_type": "stream",
     "text": [
      "The country with the highest population in 2022 is CHINA with 1425887337 number of people\n"
     ]
    }
   ],
   "source": [
    "country_name = max_population_row[\"Country/Territory\"]\n",
    "pp = max_population_row[\"2022 Population\"]\n",
    "print(\"The country with the highest population in 2022 is \" + country_name.upper() \n",
    "      + \" with \" +str(pp) + \" number of people\")"
   ]
  },
  {
   "cell_type": "markdown",
   "metadata": {},
   "source": [
    "4. Which country had the smallest population in 2022?"
   ]
  },
  {
   "cell_type": "code",
   "execution_count": 25,
   "metadata": {},
   "outputs": [
    {
     "name": "stdout",
     "output_type": "stream",
     "text": [
      "The country with the minimum population is Vatican City with 510\n"
     ]
    }
   ],
   "source": [
    "min_pp_row = world_pp.loc[world_pp[\"2022 Population\"].idxmin()]\n",
    "print(\"The country with the minimum population is \" + min_pp_row[\"Country/Territory\"] \n",
    "      + \" with \" + str(min_pp_row[\"2022 Population\"]))"
   ]
  },
  {
   "cell_type": "markdown",
   "metadata": {},
   "source": [
    "5. What is the average population across all countries in 2022?"
   ]
  },
  {
   "cell_type": "code",
   "execution_count": 29,
   "metadata": {},
   "outputs": [
    {
     "name": "stdout",
     "output_type": "stream",
     "text": [
      "The average population across all countries in 2022 is 34074414\n"
     ]
    }
   ],
   "source": [
    "print(\"The average population across all countries in 2022 is \" + str(int(world_pp[\"2022 Population\"].mean())))"
   ]
  },
  {
   "cell_type": "markdown",
   "metadata": {},
   "source": [
    "6.  How many countries have a population greater than 100 million in 2022?"
   ]
  },
  {
   "cell_type": "code",
   "execution_count": 33,
   "metadata": {},
   "outputs": [
    {
     "name": "stdout",
     "output_type": "stream",
     "text": [
      "World has 14 countries with population greater than 100 million in 2022\n"
     ]
    }
   ],
   "source": [
    "countries_gt_100M = world_pp[world_pp[\"2022 Population\"] > 100_000_000]\n",
    "num_countries = countries_gt_100M[\"2022 Population\"].nunique()\n",
    "print(\"World has \" + str(num_countries) + \" countries with population greater than 100 million in 2022\")"
   ]
  },
  {
   "cell_type": "markdown",
   "metadata": {},
   "source": [
    "7. What is the median population size in 2022?"
   ]
  },
  {
   "cell_type": "code",
   "execution_count": 39,
   "metadata": {},
   "outputs": [
    {
     "name": "stdout",
     "output_type": "stream",
     "text": [
      "The median population is 5559944\n"
     ]
    }
   ],
   "source": [
    "print(\"The median population is \" + str(int(world_pp[\"2022 Population\"].median())))"
   ]
  },
  {
   "cell_type": "markdown",
   "metadata": {},
   "source": [
    "8. What is the population range (max - min) in 2022?"
   ]
  },
  {
   "cell_type": "code",
   "execution_count": 40,
   "metadata": {},
   "outputs": [
    {
     "name": "stdout",
     "output_type": "stream",
     "text": [
      "The population range is 1425886827\n"
     ]
    }
   ],
   "source": [
    "print(\"The population range is \" +str(world_pp[\"2022 Population\"].max() - world_pp[\"2022 Population\"].min()))"
   ]
  },
  {
   "cell_type": "markdown",
   "metadata": {},
   "source": [
    "9. What is the mode of population sizes in 2022?"
   ]
  },
  {
   "cell_type": "code",
   "execution_count": 42,
   "metadata": {},
   "outputs": [],
   "source": [
    "mode_pp22 = world_pp[\"2022 Population\"].mode()"
   ]
  },
  {
   "cell_type": "code",
   "execution_count": 43,
   "metadata": {},
   "outputs": [
    {
     "name": "stdout",
     "output_type": "stream",
     "text": [
      "The mode of population sizes in 2022 is 0             510\n",
      "1            1871\n",
      "2            1934\n",
      "3            3780\n",
      "4            4390\n",
      "          ...    \n",
      "229     235824862\n",
      "230     275501339\n",
      "231     338289857\n",
      "232    1417173173\n",
      "233    1425887337\n",
      "Name: 2022 Population, Length: 234, dtype: int64\n"
     ]
    }
   ],
   "source": [
    "print(\"The mode of population sizes in 2022 is \" + str(mode_pp22))"
   ]
  },
  {
   "cell_type": "markdown",
   "metadata": {},
   "source": [
    "10. Which country experienced the largest growth rate ?"
   ]
  },
  {
   "cell_type": "code",
   "execution_count": 47,
   "metadata": {},
   "outputs": [
    {
     "name": "stdout",
     "output_type": "stream",
     "text": [
      "Unnamed: 0                          133\n",
      "Rank                                135\n",
      "CCA3                                MDA\n",
      "Country/Territory               Moldova\n",
      "Capital                        Chisinau\n",
      "Continent                        Europe\n",
      "2022 Population                 3272996\n",
      "2020 Population                 3084847\n",
      "2015 Population                 3277388\n",
      "2010 Population                 3678186\n",
      "2000 Population                 4251573\n",
      "1990 Population                 4480199\n",
      "1980 Population                 4103240\n",
      "1970 Population                 3711140\n",
      "Area (km²)                        33846\n",
      "Density (per km²)               96.7026\n",
      "Growth Rate                      1.0691\n",
      "World Population Percentage        0.04\n",
      "Name: 133, dtype: object\n",
      "\n",
      "The country with the largest growth rate is MOLDOVA\n"
     ]
    }
   ],
   "source": [
    "largest_growth_rate = world_pp.loc[world_pp[\"Growth Rate\"].idxmax()]\n",
    "print(largest_growth_rate)\n",
    "country_name = largest_growth_rate[\"Country/Territory\"]\n",
    "print(\"\\nThe country with the largest growth rate is \" + country_name.upper())"
   ]
  },
  {
   "cell_type": "code",
   "execution_count": null,
   "metadata": {},
   "outputs": [],
   "source": []
  }
 ],
 "metadata": {
  "kernelspec": {
   "display_name": "base",
   "language": "python",
   "name": "python3"
  },
  "language_info": {
   "codemirror_mode": {
    "name": "ipython",
    "version": 3
   },
   "file_extension": ".py",
   "mimetype": "text/x-python",
   "name": "python",
   "nbconvert_exporter": "python",
   "pygments_lexer": "ipython3",
   "version": "3.12.3"
  }
 },
 "nbformat": 4,
 "nbformat_minor": 2
}
